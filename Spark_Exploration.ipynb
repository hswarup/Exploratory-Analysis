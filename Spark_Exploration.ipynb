{
  "nbformat": 4,
  "nbformat_minor": 0,
  "metadata": {
    "colab": {
      "name": "Spark_Exploration.ipynb",
      "provenance": [],
      "collapsed_sections": [],
      "include_colab_link": true
    },
    "kernelspec": {
      "display_name": "Python 3",
      "language": "python",
      "name": "python3"
    },
    "language_info": {
      "codemirror_mode": {
        "name": "ipython",
        "version": 3
      },
      "file_extension": ".py",
      "mimetype": "text/x-python",
      "name": "python",
      "nbconvert_exporter": "python",
      "pygments_lexer": "ipython3",
      "version": "3.6.5"
    }
  },
  "cells": [
    {
      "cell_type": "markdown",
      "metadata": {
        "id": "view-in-github",
        "colab_type": "text"
      },
      "source": [
        "<a href=\"https://colab.research.google.com/github/hswarup/Exploratory-Analysis/blob/master/Spark_Exploration.ipynb\" target=\"_parent\"><img src=\"https://colab.research.google.com/assets/colab-badge.svg\" alt=\"Open In Colab\"/></a>"
      ]
    },
    {
      "cell_type": "markdown",
      "metadata": {
        "colab_type": "text",
        "id": "8qf-TmnsBgXd"
      },
      "source": [
        "# Download Chicago's Reported Crime Data"
      ]
    },
    {
      "cell_type": "markdown",
      "metadata": {
        "colab_type": "text",
        "id": "Dd6t0uFzuR4X"
      },
      "source": [
        "## Download and install Spark"
      ]
    },
    {
      "cell_type": "code",
      "metadata": {
        "colab_type": "code",
        "id": "zToS5PqxBXpK",
        "outputId": "6fdca898-1814-4b14-e656-ceaf32568411",
        "colab": {
          "base_uri": "https://localhost:8080/",
          "height": 53
        }
      },
      "source": [
        "!ls"
      ],
      "execution_count": 0,
      "outputs": [
        {
          "output_type": "stream",
          "text": [
            "data   reported-crimes.csv\trequirements.txt  spark-2.4.4-bin-hadoop2.7\n",
            "drive  reported_crimes_parquet\tsample_data\t  spark-2.4.4-bin-hadoop2.7.tgz\n"
          ],
          "name": "stdout"
        }
      ]
    },
    {
      "cell_type": "code",
      "metadata": {
        "colab_type": "code",
        "id": "tt7ZS1_wGgjn",
        "outputId": "e390fa14-3ad4-4b4b-e905-a05359200d2e",
        "colab": {
          "base_uri": "https://localhost:8080/",
          "height": 289
        }
      },
      "source": [
        "!apt-get update\n",
        "!apt-get install openjdk-8-jdk-headless -qq > /dev/null\n",
        "!wget -q http://archive.apache.org/dist/spark/spark-2.4.4/spark-2.4.4-bin-hadoop2.7.tgz\n",
        "!tar xf spark-2.4.4-bin-hadoop2.7.tgz\n",
        "!pip install -q findspark\n",
        "!pip install pyspark"
      ],
      "execution_count": 0,
      "outputs": [
        {
          "output_type": "stream",
          "text": [
            "\r0% [Working]\r            \rIgn:1 https://developer.download.nvidia.com/compute/cuda/repos/ubuntu1804/x86_64  InRelease\n",
            "\r0% [Waiting for headers] [Waiting for headers] [Connected to cloud.r-project.or\r                                                                               \rHit:2 http://archive.ubuntu.com/ubuntu bionic InRelease\n",
            "\r0% [Waiting for headers] [Connected to cloud.r-project.org (13.32.85.106)] [Wai\r                                                                               \rGet:3 http://security.ubuntu.com/ubuntu bionic-security InRelease [88.7 kB]\n",
            "\r                                                                               \rHit:4 http://ppa.launchpad.net/graphics-drivers/ppa/ubuntu bionic InRelease\n",
            "\r0% [Waiting for headers] [3 InRelease 5,485 B/88.7 kB 6%] [Waiting for headers]\r0% [2 InRelease gpgv 242 kB] [Waiting for headers] [3 InRelease 5,485 B/88.7 kB\r                                                                               \rIgn:5 https://developer.download.nvidia.com/compute/machine-learning/repos/ubuntu1804/x86_64  InRelease\n",
            "\r0% [2 InRelease gpgv 242 kB] [Waiting for headers] [3 InRelease 11.3 kB/88.7 kB\r                                                                               \rHit:6 https://developer.download.nvidia.com/compute/cuda/repos/ubuntu1804/x86_64  Release\n",
            "\r0% [2 InRelease gpgv 242 kB] [Waiting for headers] [3 InRelease 14.2 kB/88.7 kB\r                                                                               \rGet:7 https://cloud.r-project.org/bin/linux/ubuntu bionic-cran35/ InRelease [3,626 B]\n",
            "\r0% [2 InRelease gpgv 242 kB] [Waiting for headers] [3 InRelease 14.2 kB/88.7 kB\r0% [2 InRelease gpgv 242 kB] [Waiting for headers] [3 InRelease 14.2 kB/88.7 kB\r                                                                               \rHit:8 https://developer.download.nvidia.com/compute/machine-learning/repos/ubuntu1804/x86_64  Release\n",
            "\r0% [2 InRelease gpgv 242 kB] [Waiting for headers] [3 InRelease 14.2 kB/88.7 kB\r                                                                               \rGet:9 http://archive.ubuntu.com/ubuntu bionic-updates InRelease [88.7 kB]\n",
            "Get:10 http://ppa.launchpad.net/marutter/c2d4u3.5/ubuntu bionic InRelease [15.4 kB]\n",
            "Get:11 http://archive.ubuntu.com/ubuntu bionic-backports InRelease [74.6 kB]\n",
            "Get:14 http://ppa.launchpad.net/marutter/c2d4u3.5/ubuntu bionic/main Sources [1,811 kB]\n",
            "Fetched 2,082 kB in 2s (893 kB/s)\n",
            "Reading package lists... Done\n",
            "Requirement already satisfied: pyspark in /usr/local/lib/python3.6/dist-packages (2.4.5)\n",
            "Requirement already satisfied: py4j==0.10.7 in /usr/local/lib/python3.6/dist-packages (from pyspark) (0.10.7)\n"
          ],
          "name": "stdout"
        }
      ]
    },
    {
      "cell_type": "markdown",
      "metadata": {
        "colab_type": "text",
        "id": "FEuEkV0BlzAD"
      },
      "source": [
        "## Setup Spark environment"
      ]
    },
    {
      "cell_type": "code",
      "metadata": {
        "colab_type": "code",
        "id": "sdOOq4twHN1K",
        "outputId": "6dc21282-fb0a-4ae0-a89d-e4381e985c54",
        "colab": {
          "base_uri": "https://localhost:8080/",
          "height": 216
        }
      },
      "source": [
        "import os\n",
        "os.environ[\"JAVA_HOME\"] = \"/usr/lib/jvm/java-8-openjdk-amd64\"\n",
        "os.environ[\"SPARK_HOME\"] = \"/content/spark-2.4.4-bin-hadoop2.7\"\n",
        "\n",
        "\n",
        "from pyspark.sql import SparkSession\n",
        "from pyspark.sql.functions import to_timestamp,col,lit\n",
        "spark = SparkSession.builder.getOrCreate() \n",
        "spark"
      ],
      "execution_count": 0,
      "outputs": [
        {
          "output_type": "execute_result",
          "data": {
            "text/html": [
              "\n",
              "            <div>\n",
              "                <p><b>SparkSession - in-memory</b></p>\n",
              "                \n",
              "        <div>\n",
              "            <p><b>SparkContext</b></p>\n",
              "\n",
              "            <p><a href=\"http://4f0e020ab0f1:4040\">Spark UI</a></p>\n",
              "\n",
              "            <dl>\n",
              "              <dt>Version</dt>\n",
              "                <dd><code>v2.4.4</code></dd>\n",
              "              <dt>Master</dt>\n",
              "                <dd><code>local[*]</code></dd>\n",
              "              <dt>AppName</dt>\n",
              "                <dd><code>pyspark-shell</code></dd>\n",
              "            </dl>\n",
              "        </div>\n",
              "        \n",
              "            </div>\n",
              "        "
            ],
            "text/plain": [
              "<pyspark.sql.session.SparkSession at 0x7fd79aaa7390>"
            ]
          },
          "metadata": {
            "tags": []
          },
          "execution_count": 3
        }
      ]
    },
    {
      "cell_type": "code",
      "metadata": {
        "id": "LqhpAli2nRmT",
        "colab_type": "code",
        "outputId": "e5bd99b0-d46e-4d92-e109-af227b043f68",
        "colab": {
          "base_uri": "https://localhost:8080/",
          "height": 193
        }
      },
      "source": [
        "from pyspark import SparkContext\n",
        "sc = SparkContext.getOrCreate()\n",
        "sc"
      ],
      "execution_count": 0,
      "outputs": [
        {
          "output_type": "execute_result",
          "data": {
            "text/html": [
              "\n",
              "        <div>\n",
              "            <p><b>SparkContext</b></p>\n",
              "\n",
              "            <p><a href=\"http://4f0e020ab0f1:4040\">Spark UI</a></p>\n",
              "\n",
              "            <dl>\n",
              "              <dt>Version</dt>\n",
              "                <dd><code>v2.4.4</code></dd>\n",
              "              <dt>Master</dt>\n",
              "                <dd><code>local[*]</code></dd>\n",
              "              <dt>AppName</dt>\n",
              "                <dd><code>pyspark-shell</code></dd>\n",
              "            </dl>\n",
              "        </div>\n",
              "        "
            ],
            "text/plain": [
              "<SparkContext master=local[*] appName=pyspark-shell>"
            ]
          },
          "metadata": {
            "tags": []
          },
          "execution_count": 4
        }
      ]
    },
    {
      "cell_type": "markdown",
      "metadata": {
        "colab_type": "text",
        "id": "0ysUlfFrN5OD"
      },
      "source": [
        "## Downloading and preprocessing Chicago's Reported Crime Data"
      ]
    },
    {
      "cell_type": "code",
      "metadata": {
        "colab_type": "code",
        "id": "FDtw5Hy3N-pV",
        "outputId": "20fe9513-9723-4b26-b815-af6db293e188",
        "colab": {
          "base_uri": "https://localhost:8080/",
          "height": 204
        }
      },
      "source": [
        "#!wget https://data.cityofchicago.org/api/views/ijzp-q8t2/rows.csv?accessType=DOWNLOAD"
      ],
      "execution_count": 0,
      "outputs": [
        {
          "output_type": "stream",
          "text": [
            "--2020-04-15 19:00:29--  https://data.cityofchicago.org/api/views/ijzp-q8t2/rows.csv?accessType=DOWNLOAD\n",
            "Resolving data.cityofchicago.org (data.cityofchicago.org)... 52.206.140.199, 52.206.68.26, 52.206.140.205\n",
            "Connecting to data.cityofchicago.org (data.cityofchicago.org)|52.206.140.199|:443... connected.\n",
            "HTTP request sent, awaiting response... 200 OK\n",
            "Length: unspecified [text/csv]\n",
            "Saving to: ‘rows.csv?accessType=DOWNLOAD’\n",
            "\n",
            "rows.csv?accessType     [  <=>               ]   1.56G  2.82MB/s    in 11m 11s \n",
            "\n",
            "2020-04-15 19:11:41 (2.38 MB/s) - ‘rows.csv?accessType=DOWNLOAD’ saved [1674980963]\n",
            "\n"
          ],
          "name": "stdout"
        }
      ]
    },
    {
      "cell_type": "code",
      "metadata": {
        "colab_type": "code",
        "id": "v4P5mMONYyVd",
        "outputId": "01b91da3-38d7-4af2-debe-b7d495feffec",
        "colab": {
          "base_uri": "https://localhost:8080/",
          "height": 68
        }
      },
      "source": [
        "#!ls"
      ],
      "execution_count": 0,
      "outputs": [
        {
          "output_type": "stream",
          "text": [
            " drive\t\t\t\t spark-2.4.4-bin-hadoop2.7\n",
            "'rows.csv?accessType=DOWNLOAD'\t spark-2.4.4-bin-hadoop2.7.tgz\n",
            " sample_data\t\t\t spark-warehouse\n"
          ],
          "name": "stdout"
        }
      ]
    },
    {
      "cell_type": "markdown",
      "metadata": {
        "id": "aoel9zkTXAO5",
        "colab_type": "text"
      },
      "source": [
        "##Rename the input file to a smaller/readable name"
      ]
    },
    {
      "cell_type": "code",
      "metadata": {
        "colab_type": "code",
        "id": "MzpuCsvDPWM-",
        "colab": {}
      },
      "source": [
        "#!mv 'rows.csv?accessType=DOWNLOAD' reported-crimes.csv"
      ],
      "execution_count": 0,
      "outputs": []
    },
    {
      "cell_type": "markdown",
      "metadata": {
        "id": "tscXdcLjW23N",
        "colab_type": "text"
      },
      "source": [
        "##Read the input CSV File"
      ]
    },
    {
      "cell_type": "code",
      "metadata": {
        "colab_type": "code",
        "id": "9-1cK0nPNS95",
        "colab": {}
      },
      "source": [
        "#from pyspark.sql.functions import to_timestamp,col,lit\n",
        "#rc = spark.read.csv('reported-crimes.csv',header=True).withColumn('Date',to_timestamp(col('Date'),'MM/dd/yyyy hh:mm:ss a')).filter(col('Date') <= lit('2018-11-11'))\n",
        "#rc.show(5)"
      ],
      "execution_count": 0,
      "outputs": []
    },
    {
      "cell_type": "markdown",
      "metadata": {
        "id": "kQBiZLT0s2BC",
        "colab_type": "text"
      },
      "source": [
        "## View the structure/schema of Input File"
      ]
    },
    {
      "cell_type": "code",
      "metadata": {
        "id": "4NHyp7j2na5p",
        "colab_type": "code",
        "colab": {}
      },
      "source": [
        "#rc.dtypes\n",
        "#rc.printSchema()\n",
        "#rc.columns"
      ],
      "execution_count": 0,
      "outputs": []
    },
    {
      "cell_type": "code",
      "metadata": {
        "id": "p_1Bh5n7neVT",
        "colab_type": "code",
        "colab": {}
      },
      "source": [
        "#rc.count()\n",
        "#rc.describe().show()"
      ],
      "execution_count": 0,
      "outputs": []
    },
    {
      "cell_type": "markdown",
      "metadata": {
        "id": "jEcUOVkGsXCa",
        "colab_type": "text"
      },
      "source": [
        "## Create a Parquet File from .CSV File and store it in Google Drive\n",
        "### This is done for better performance obtained from .parquet format(Compression and Using Parallel processing)"
      ]
    },
    {
      "cell_type": "code",
      "metadata": {
        "id": "uaMdO_wfg18Q",
        "colab_type": "code",
        "colab": {}
      },
      "source": [
        "#from google.colab import drive\n",
        "#drive.mount('/content/drive')\n",
        "# df2 = rc.select(\n",
        "# \tcol(\"ID\"),\\\n",
        "# \tcol(\"Case Number\").alias(\"Case_Number\"),\\\n",
        "# \tcol(\"Date\"),\\\n",
        "# \tcol(\"Block\"),\\\n",
        "# \tcol(\"IUCR\"),\\\n",
        "# \tcol(\"Primary Type\").alias(\"Primary_Type\"),\\\n",
        "# \tcol(\"Description\"),\\\n",
        "# \tcol(\"Location Description\").alias(\"Location_Description\"),\\\n",
        "# \tcol(\"Arrest\"),\\\n",
        "# \tcol(\"Domestic\"),\\\n",
        "# \tcol(\"Beat\"),\\\n",
        "# \tcol(\"District\"),\\\n",
        "# \tcol(\"Ward\"),\\\n",
        "# \tcol(\"Community Area\").alias(\"Community_Area\"),\\\n",
        "# \tcol(\"FBI Code\").alias(\"FBICode\"),\\\n",
        "# \tcol(\"X Coordinate\").alias(\"X_Coordinate\"),\\\n",
        "# \tcol(\"Y Coordinate\").alias(\"Y_Coordinate\"),\\\n",
        "# \tcol(\"Year\"),\\\n",
        "# \tcol(\"Updated On\").alias(\"Updated_On\"),\\\n",
        "# \tcol(\"Latitude\"),\\\n",
        "# \tcol(\"Longitude\"),\\\n",
        "# \tcol(\"Location\")\\\n",
        "# )\n",
        "#df2.show()\n",
        "#df2.write.save(\"/content/drive/My Drive/data/reported_crimes_parquet\",format=\"parquet\")"
      ],
      "execution_count": 0,
      "outputs": []
    },
    {
      "cell_type": "markdown",
      "metadata": {
        "id": "QmdTPyboskgn",
        "colab_type": "text"
      },
      "source": [
        "## Read the input Parquet File"
      ]
    },
    {
      "cell_type": "code",
      "metadata": {
        "id": "5yCVO_DSgO8Y",
        "colab_type": "code",
        "outputId": "9c6f557b-1d23-478c-c7b5-136964dfcd4c",
        "colab": {
          "base_uri": "https://localhost:8080/",
          "height": 496
        }
      },
      "source": [
        "from google.colab import drive\n",
        "drive.mount('/content/drive')\n",
        "#!ls -lRt /content/drive/My\\ Drive/data\n",
        "\n",
        "rc = spark.read.format(\"parquet\").load(\"/content/drive/My Drive/data/reported_crimes_parquet\")\n",
        "rc.show()"
      ],
      "execution_count": 0,
      "outputs": [
        {
          "output_type": "stream",
          "text": [
            "Drive already mounted at /content/drive; to attempt to forcibly remount, call drive.mount(\"/content/drive\", force_remount=True).\n",
            "+-------+-----------+-------------------+--------------------+----+--------------------+--------------------+--------------------+------+--------+----+--------+----+--------------+-------+------------+------------+----+--------------------+------------+-------------+--------------------+\n",
            "|     ID|Case_Number|               Date|               Block|IUCR|        Primary_Type|         Description|Location_Description|Arrest|Domestic|Beat|District|Ward|Community_Area|FBICode|X_Coordinate|Y_Coordinate|Year|          Updated_On|    Latitude|    Longitude|            Location|\n",
            "+-------+-----------+-------------------+--------------------+----+--------------------+--------------------+--------------------+------+--------+----+--------+----+--------------+-------+------------+------------+----+--------------------+------------+-------------+--------------------+\n",
            "|1730080|    G536683|2001-09-06 20:00:00|  093XX S CRANDON AV|0910| MOTOR VEHICLE THEFT|          AUTOMOBILE|              STREET|  true|   false|0413|     004|null|          null|     07|     1193108|     1843138|2001|08/17/2015 03:03:...|41.724529445|-87.568237637|(41.724529445, -8...|\n",
            "|1730081|    G534867|2001-09-06 20:12:38|    055XX S STATE ST|1710|OFFENSE INVOLVING...|ENDANGERING LIFE/...|            SIDEWALK| false|   false|0233|     002|null|          null|     26|     1177260|     1868230|2001|08/17/2015 03:03:...|41.793756617|-87.625531897|(41.793756617, -8...|\n",
            "|1730082|    G536731|2001-09-02 23:30:00|       015XX E 72 PL|0910| MOTOR VEHICLE THEFT|          AUTOMOBILE|              STREET| false|   false|0324|     003|null|          null|     07|     1187677|     1857262|2001|08/17/2015 03:03:...|41.763417826|-87.587682714|(41.763417826, -8...|\n",
            "|1730084|    G532276|2001-09-05 17:15:00|   063XX S DREXEL AV|0820|               THEFT|      $500 AND UNDER|       PARK PROPERTY|  true|   false|0312|     003|null|          null|     06|     1183436|     1863397|2001|08/17/2015 03:03:...|41.780352676|-87.603035702|(41.780352676, -8...|\n",
            "|1730087|    G536760|2001-09-07 12:00:00|  005XX N HALSTED ST|0820|               THEFT|      $500 AND UNDER|              STREET| false|   false|1323|     012|null|          null|     06|     1170991|     1903929|2001|08/17/2015 03:03:...|41.891857114|-87.647474422|(41.891857114, -8...|\n",
            "|1730088|    G536719|2001-09-07 10:00:00|008XX E MIDWAY PL...|0910| MOTOR VEHICLE THEFT|          AUTOMOBILE|              STREET| false|   false|2133|     002|null|          null|     07|     1182622|     1865900|2001|08/17/2015 03:03:...|41.787240066|-87.605942299|(41.787240066, -8...|\n",
            "|1730089|    G535462|2001-09-07 04:10:00|  063XX S MINERVA AV|0460|             BATTERY|              SIMPLE|RESIDENCE PORCH/H...| false|    true|0314|     003|null|          null|    08B|     1185218|     1862870|2001|08/17/2015 03:03:...|41.778864827|-87.596519232|(41.778864827, -8...|\n",
            "|1730091|    G536745|2001-08-27 00:01:00|   017XX W ALBION AV|0920| MOTOR VEHICLE THEFT|     ATT: AUTOMOBILE|               OTHER| false|   false|2432|     024|null|          null|     07|     1163232|     1943839|2001|08/17/2015 03:03:...|42.001538906|-87.674843633|(42.001538906, -8...|\n",
            "|1730092|    G536772|2001-09-07 16:30:00|   082XX S MORGAN ST|4387|       OTHER OFFENSE|VIOLATE ORDER OF ...|           RESIDENCE| false|    true|0613|     006|null|          null|     26|     1171038|     1850252|2001|08/17/2015 03:03:...| 41.74456109|-87.648872089|(41.74456109, -87...|\n",
            "|1730094|    G536735|2001-09-07 14:24:00|  052XX N LINCOLN AV|0810|               THEFT|           OVER $500|              STREET| false|   false|2011|     020|null|          null|     06|     1158483|     1934791|2001|08/17/2015 03:03:...|41.976809711|-87.692563577|(41.976809711, -8...|\n",
            "|1730097|    G536804|2001-09-07 07:00:00|       035XX W 26 ST|0820|               THEFT|      $500 AND UNDER|             CTA BUS| false|   false|1024|     010|null|          null|     06|     1153433|     1886545|2001|08/17/2015 03:03:...|41.844520531|-87.712419066|(41.844520531, -8...|\n",
            "|1730098|    G536797|2001-09-07 08:00:00|  031XX S KOSTNER AV|0820|               THEFT|      $500 AND UNDER|VEHICLE NON-COMME...| false|   false|1031|     010|null|          null|     06|     1147599|     1883464|2001|08/17/2015 03:03:...|  41.8361796|-87.733908042|(41.8361796, -87....|\n",
            "|1730099|    G536818|2001-09-07 08:00:00|    104XX S AVENUE L|1320|     CRIMINAL DAMAGE|          TO VEHICLE|              STREET| false|   false|0432|     004|null|          null|     14|     1201796|     1836388|2001|08/17/2015 03:03:...|41.705790611|-87.536643149|(41.705790611, -8...|\n",
            "|1730101|    G536824|2001-09-07 13:00:00|       008XX W 51 PL|1310|     CRIMINAL DAMAGE|         TO PROPERTY|           RESIDENCE| false|   false|0934|     009|null|          null|     14|     1171318|     1870652|2001|08/17/2015 03:03:...| 41.80053503|-87.647249836|(41.80053503, -87...|\n",
            "|1730103|    G536801|2001-09-07 10:00:00|  014XX W ARDMORE AV|1310|     CRIMINAL DAMAGE|         TO PROPERTY|           RESIDENCE| false|   false|2013|     020|null|          null|     14|     1165729|     1938920|2001|08/17/2015 03:03:...|41.987987988|-87.665798627|(41.987987988, -8...|\n",
            "|1730104|    G532885|2001-09-05 22:34:28|   057XX S WABASH AV|143A|   WEAPONS VIOLATION|UNLAWFUL POSS OF ...|            SIDEWALK|  true|   false|0233|     002|null|          null|     15|     1177657|     1866870|2001|08/17/2015 03:03:...|41.790015665|-87.624117276|(41.790015665, -8...|\n",
            "|1730106|    G536755|2001-09-07 07:45:00|    049XX W ADAMS ST|2820|       OTHER OFFENSE|    TELEPHONE THREAT|           RESIDENCE| false|    true|1533|     015|null|          null|     26|     1143539|     1898838|2001|08/17/2015 03:03:...|41.878444691|-87.748421552|(41.878444691, -8...|\n",
            "|1730108|    G536849|2001-09-06 18:00:00|  062XX S PAULINA ST|0610|            BURGLARY|      FORCIBLE ENTRY|    RESIDENCE-GARAGE| false|   false|0714|     007|null|          null|     05|     1166122|     1863199|2001|08/17/2015 03:03:...|41.780195312| -87.66651722|(41.780195312, -8...|\n",
            "|1730109|    G533074|2001-09-06 01:45:01|  044XX S FEDERAL ST|041A|             BATTERY| AGGRAVATED: HANDGUN|CHA PARKING LOT/G...| false|   false|0221|     002|null|          null|    04B|     1176393|     1875487|2001|08/17/2015 03:03:...|41.813690054|-87.628492882|(41.813690054, -8...|\n",
            "|1730110|    G536832|2001-09-07 16:00:00|      040XX E 134 ST|2820|       OTHER OFFENSE|    TELEPHONE THREAT|           RESIDENCE| false|   false|0433|     004|null|          null|     26|     1204479|     1816701|2001|08/17/2015 03:03:...|41.651699175|-87.527492734|(41.651699175, -8...|\n",
            "+-------+-----------+-------------------+--------------------+----+--------------------+--------------------+--------------------+------+--------+----+--------+----+--------------+-------+------------+------------+----+--------------------+------------+-------------+--------------------+\n",
            "only showing top 20 rows\n",
            "\n"
          ],
          "name": "stdout"
        }
      ]
    },
    {
      "cell_type": "code",
      "metadata": {
        "id": "5uf8NniAnkRn",
        "colab_type": "code",
        "outputId": "24854b93-b70c-41f8-e777-8781a095c1db",
        "colab": {
          "base_uri": "https://localhost:8080/",
          "height": 35
        }
      },
      "source": [
        "rc.count()"
      ],
      "execution_count": 0,
      "outputs": [
        {
          "output_type": "execute_result",
          "data": {
            "text/plain": [
              "6752637"
            ]
          },
          "metadata": {
            "tags": []
          },
          "execution_count": 8
        }
      ]
    },
    {
      "cell_type": "markdown",
      "metadata": {
        "id": "0_SoJgvLZUz-",
        "colab_type": "text"
      },
      "source": [
        "##A demo showing how to read a parquet file using pandas(takes a bit longer than spark)\n",
        "*Also,The Colab instance crashed when running it for the 2nd time*\n",
        "\n"
      ]
    },
    {
      "cell_type": "code",
      "metadata": {
        "id": "VyqWhGxVtowE",
        "colab_type": "code",
        "colab": {}
      },
      "source": [
        "#import pandas as pd\n",
        "#pandas_df=pd.read_parquet(\"/content/drive/My Drive/data/reported_crimes_parquet\")\n",
        "#pandas_df.sample(10)"
      ],
      "execution_count": 0,
      "outputs": []
    },
    {
      "cell_type": "code",
      "metadata": {
        "id": "O-rCA1S7XY55",
        "colab_type": "code",
        "outputId": "f8a80cd3-2c91-47df-dd21-64a4c6b41090",
        "colab": {
          "base_uri": "https://localhost:8080/",
          "height": 505
        }
      },
      "source": [
        "#small_rc = rc.sample(fraction=0.0001)\n",
        "#small_rc.show()"
      ],
      "execution_count": 0,
      "outputs": [
        {
          "output_type": "stream",
          "text": [
            "+-------+-----------+-------------------+--------------------+----+-------------------+--------------------+--------------------+------+--------+----+--------+----+--------------+-------+------------+------------+----+--------------------+------------+-------------+--------------------+\n",
            "|     ID|Case_Number|               Date|               Block|IUCR|       Primary_Type|         Description|Location_Description|Arrest|Domestic|Beat|District|Ward|Community_Area|FBICode|X_Coordinate|Y_Coordinate|Year|          Updated_On|    Latitude|    Longitude|            Location|\n",
            "+-------+-----------+-------------------+--------------------+----+-------------------+--------------------+--------------------+------+--------+----+--------+----+--------------+-------+------------+------------+----+--------------------+------------+-------------+--------------------+\n",
            "|1730681|    G537925|2001-09-08 03:00:00|    054XX S DAMEN AV|041A|            BATTERY| AGGRAVATED: HANDGUN|              STREET|  true|   false|0915|     009|null|          null|    04B|     1163919|     1868214|2001|08/17/2015 03:03:...|41.794003712|-87.674452893|(41.794003712, -8...|\n",
            "|1771180|    G586641|2001-09-30 14:30:00|   026XX N WILTON AV|0560|            ASSAULT|              SIMPLE|              STREET| false|   false|1933|     019|null|          null|    08A|     1169534|     1917949|2001|08/17/2015 03:03:...|41.930360626| -87.65241654|(41.930360626, -8...|\n",
            "|1779712|    G597310|2001-10-04 23:00:00|    068XX S GREEN ST|0320|            ROBBERY|STRONGARM - NO WE...|           RESIDENCE| false|   false|0723|     007|null|          null|     03|     1171854|     1859583|2001|08/17/2015 03:03:...|41.770148686|-87.645608847|(41.770148686, -8...|\n",
            "|1786445|    G604895|2001-10-08 20:29:28|       005XX E 47 ST|0420|            BATTERY|AGGRAVATED:KNIFE/...|              STREET| false|   false|0222|     002|null|          null|    04B|     1180734|     1874015|2001|08/17/2015 03:03:...|41.809551959|-87.612615224|(41.809551959, -8...|\n",
            "|1791790|    G612989|2001-10-11 14:45:00|   013XX W TAYLOR ST|041A|            BATTERY| AGGRAVATED: HANDGUN|              STREET| false|   false|1231|     012|null|          null|    04B|     1167852|     1895672|2001|08/17/2015 03:03:...|41.869267559|-87.659240688|(41.869267559, -8...|\n",
            "|1799099|    G625904|2001-10-17 22:00:00|    108XX S UNION AV|0910|MOTOR VEHICLE THEFT|          AUTOMOBILE|              STREET| false|   false|2233|     022|null|          null|     07|     1173530|     1832967|2001|08/17/2015 03:03:...|41.697073859| -87.64025099|(41.697073859, -8...|\n",
            "|1816088|    G646233|2001-10-27 10:15:00|   006XX N PEORIA ST|0810|              THEFT|           OVER $500|VEHICLE NON-COMME...| false|   false|1323|     012|null|          null|     06|     1170228|     1904756|2001|08/17/2015 03:03:...|41.894143157|-87.650252382|(41.894143157, -8...|\n",
            "|1826289|    G655221|2001-10-31 12:05:00|       015XX E 55 ST|0820|              THEFT|      $500 AND UNDER|          DRUG STORE|  true|   false|2132|     002|null|          null|     06|     1187428|     1868878|2001|08/17/2015 03:03:...|41.795298999|-87.588226431|(41.795298999, -8...|\n",
            "|1847037|    G686138|2001-07-13 16:00:00|       016XX W 18 PL|5001|      OTHER OFFENSE|OTHER CRIME INVOL...|PARKING LOT/GARAG...| false|   false|1222|     012|null|          null|     26|     1165698|     1891173|2001|08/17/2015 03:03:...| 41.85696805|-87.667276699|(41.85696805, -87...|\n",
            "|1874298|    G721785|2001-12-01 18:00:00|077XX S CARPENTER ST|0910|MOTOR VEHICLE THEFT|          AUTOMOBILE|              STREET| false|   false|0612|     006|null|          null|     07|     1170612|     1853601|2001|08/17/2015 03:03:...| 41.75376048|-87.650335598|(41.75376048, -87...|\n",
            "|1877709|    G722540|2001-12-01 09:00:00|    073XX S HOYNE AV|1310|    CRIMINAL DAMAGE|         TO PROPERTY|SCHOOL, PUBLIC, B...| false|   false|0735|     007|null|          null|     14|     1163589|     1856037|2001|08/17/2015 03:03:...|41.760595326|-87.676004303|(41.760595326, -8...|\n",
            "|1879110|    G726216|2001-12-04 08:39:00|008XX W ROOSEVELT RD|5001|      OTHER OFFENSE|OTHER CRIME INVOL...|VEHICLE NON-COMME...| false|    true|1232|     012|null|          null|     26|     1170796|     1894875|2001|08/17/2015 03:03:...|41.867016583| -87.64845591|(41.867016583, -8...|\n",
            "|1879297|    G724649|2001-11-29 22:00:00|   026XX N WILTON AV|0810|              THEFT|           OVER $500|           RESIDENCE| false|   false|1933|     019|null|          null|     06|     1169542|     1917723|2001|08/17/2015 03:03:...|41.929740297|-87.652393738|(41.929740297, -8...|\n",
            "|1883780|    G731636|2001-12-06 15:00:00|   014XX W WILLOW ST|1210| DECEPTIVE PRACTICE|THEFT OF LABOR/SE...|FACTORY/MANUFACTU...|  true|   false|1433|     014|null|          null|     11|     1166512|     1911938|2001|08/17/2015 03:03:...|41.913931414|-87.663694111|(41.913931414, -8...|\n",
            "|1902622|    G756387|2001-12-18 17:15:00|       021XX E 71 ST|1330|  CRIMINAL TRESPASS|             TO LAND|PARKING LOT/GARAG...|  true|   false|0333|     003|null|          null|     26|     1191459|     1858232|2001|08/17/2015 03:03:...|41.765988783|-87.573789768|(41.765988783, -8...|\n",
            "|1905512|    G761207|2001-12-21 04:50:00|   046XX N KASSON AV|0313|            ROBBERY|ARMED: OTHER DANG...|            SIDEWALK| false|   false|1722|     017|null|          null|     03|     1147264|     1930491|2001|08/17/2015 03:03:...|41.965233071|-87.733931625|(41.965233071, -8...|\n",
            "|1955082|   HH144522|2002-01-23 23:22:23|   039XX N CICERO AV|0460|            BATTERY|              SIMPLE|            SIDEWALK| false|   false|1634|     016|null|          null|    08B|     1143666|     1925687|2002|02/10/2018 03:50:...|41.952118798|-87.747281577|(41.952118798, -8...|\n",
            "|1964913|   HH156046|2002-01-28 23:00:00| 015XX N SEDGWICK ST|1320|    CRIMINAL DAMAGE|          TO VEHICLE|              STREET| false|   false|1821|     018|null|          null|     14|     1173367|     1910509|2002|02/28/2018 03:56:...|41.909860541|-87.638552799|(41.909860541, -8...|\n",
            "|1972774|   HH166611|2002-02-04 12:37:45|  053XX S PULASKI RD|0820|              THEFT|      $500 AND UNDER|  GROCERY FOOD STORE| false|   false|0815|     008|null|          null|     06|     1150608|     1868908|2002|02/10/2018 03:50:...|41.796177739|-87.723246029|(41.796177739, -8...|\n",
            "|1974405|   HH169383|2002-02-05 19:03:00|    013XX W ESTES AV|0460|            BATTERY|              SIMPLE|           APARTMENT| false|    true|2423|     024|null|          null|    08B|     1166019|     1947523|2002|02/10/2018 03:50:...|42.011588594|-87.664484816|(42.011588594, -8...|\n",
            "+-------+-----------+-------------------+--------------------+----+-------------------+--------------------+--------------------+------+--------+----+--------+----+--------------+-------+------------+------------+----+--------------------+------------+-------------+--------------------+\n",
            "only showing top 20 rows\n",
            "\n"
          ],
          "name": "stdout"
        }
      ]
    },
    {
      "cell_type": "markdown",
      "metadata": {
        "id": "Y28W-4e7gcKW",
        "colab_type": "text"
      },
      "source": [
        "## Spark SQL (Create a Table)"
      ]
    },
    {
      "cell_type": "code",
      "metadata": {
        "id": "aY_407XtbUCq",
        "colab_type": "code",
        "colab": {}
      },
      "source": [
        "rc.createOrReplaceTempView(\"reported_crimes\")"
      ],
      "execution_count": 0,
      "outputs": []
    },
    {
      "cell_type": "code",
      "metadata": {
        "id": "6qoFa8aIfa6d",
        "colab_type": "code",
        "outputId": "b2a9c29e-3659-4ad2-f9f2-5d15c637ee0c",
        "colab": {
          "base_uri": "https://localhost:8080/",
          "height": 119
        }
      },
      "source": [
        "spark.sql(\"SELECT COUNT(*) FROM reported_crimes \").show()"
      ],
      "execution_count": 0,
      "outputs": [
        {
          "output_type": "stream",
          "text": [
            "+--------+\n",
            "|count(1)|\n",
            "+--------+\n",
            "| 6752637|\n",
            "+--------+\n",
            "\n"
          ],
          "name": "stdout"
        }
      ]
    },
    {
      "cell_type": "markdown",
      "metadata": {
        "id": "wdwOyxC1mqHm",
        "colab_type": "text"
      },
      "source": [
        "##Resilient Distributed Datasets(Low Level)"
      ]
    },
    {
      "cell_type": "code",
      "metadata": {
        "id": "IND1BQzTf5K3",
        "colab_type": "code",
        "outputId": "03a18087-87fe-49b0-8da4-58a4ffa4e7ef",
        "colab": {
          "base_uri": "https://localhost:8080/",
          "height": 323
        }
      },
      "source": [
        "#To read from .CSV\n",
        "rdd = sc.textFile(\"reported-crimes.csv\",)\n",
        "rdd.first()\n",
        "#type(rdd)\n",
        "#help(sc.textFile)\n",
        "\n",
        "# To read from parquet - but this is returning a dataframe instead of a RDD object and thus not correct\n",
        "# from pyspark import SQLContext\n",
        "# #help(dir(SQLContext))\n",
        "# sqc = SQLContext(sc)\n",
        "# sqc\n",
        "# rdd = sqc.read.parquet(\"/content/drive/My Drive/data/reported_crimes_parquet\")\n",
        "# print (type(rdd))\n",
        "# rdd.first()"
      ],
      "execution_count": 0,
      "outputs": [
        {
          "output_type": "stream",
          "text": [
            "Help on method textFile in module pyspark.context:\n",
            "\n",
            "textFile(name, minPartitions=None, use_unicode=True) method of pyspark.context.SparkContext instance\n",
            "    Read a text file from HDFS, a local file system (available on all\n",
            "    nodes), or any Hadoop-supported file system URI, and return it as an\n",
            "    RDD of Strings.\n",
            "    \n",
            "    If use_unicode is False, the strings will be kept as `str` (encoding\n",
            "    as `utf-8`), which is faster and smaller than unicode. (Added in\n",
            "    Spark 1.2)\n",
            "    \n",
            "    >>> path = os.path.join(tempdir, \"sample-text.txt\")\n",
            "    >>> with open(path, \"w\") as testFile:\n",
            "    ...    _ = testFile.write(\"Hello world!\")\n",
            "    >>> textFile = sc.textFile(path)\n",
            "    >>> textFile.collect()\n",
            "    ['Hello world!']\n",
            "\n"
          ],
          "name": "stdout"
        }
      ]
    },
    {
      "cell_type": "code",
      "metadata": {
        "id": "JZtTu2ldnHY4",
        "colab_type": "code",
        "outputId": "840ded68-e008-4b24-d30f-d0c93499b560",
        "colab": {
          "base_uri": "https://localhost:8080/",
          "height": 54
        }
      },
      "source": [
        "rdd_header = rdd.first()\n",
        "rdd_header"
      ],
      "execution_count": 0,
      "outputs": [
        {
          "output_type": "execute_result",
          "data": {
            "text/plain": [
              "Row(ID='1730080', Case_Number='G536683', Date=datetime.datetime(2001, 9, 6, 20, 0), Block='093XX S CRANDON AV', IUCR='0910', Primary_Type='MOTOR VEHICLE THEFT', Description='AUTOMOBILE', Location_Description='STREET', Arrest='true', Domestic='false', Beat='0413', District='004', Ward=None, Community_Area=None, FBICode='07', X_Coordinate='1193108', Y_Coordinate='1843138', Year='2001', Updated_On='08/17/2015 03:03:40 PM', Latitude='41.724529445', Longitude='-87.568237637', Location='(41.724529445, -87.568237637)')"
            ]
          },
          "metadata": {
            "tags": []
          },
          "execution_count": 28
        }
      ]
    },
    {
      "cell_type": "code",
      "metadata": {
        "id": "tAMcfcZMnz32",
        "colab_type": "code",
        "outputId": "0c29cd90-40b6-48e6-8b9d-c03efce440bb",
        "colab": {
          "base_uri": "https://localhost:8080/",
          "height": 300
        }
      },
      "source": [
        "rdd_new = rdd.filter(lambda line:line != rdd_header)\n",
        "rdd_new.first()"
      ],
      "execution_count": 0,
      "outputs": [
        {
          "output_type": "error",
          "ename": "TypeError",
          "evalue": "ignored",
          "traceback": [
            "\u001b[0;31m---------------------------------------------------------------------------\u001b[0m",
            "\u001b[0;31mTypeError\u001b[0m                                 Traceback (most recent call last)",
            "\u001b[0;32m<ipython-input-29-ccbbbaced8c0>\u001b[0m in \u001b[0;36m<module>\u001b[0;34m()\u001b[0m\n\u001b[0;32m----> 1\u001b[0;31m \u001b[0mrdd_new\u001b[0m \u001b[0;34m=\u001b[0m \u001b[0mrdd\u001b[0m\u001b[0;34m.\u001b[0m\u001b[0mfilter\u001b[0m\u001b[0;34m(\u001b[0m\u001b[0;32mlambda\u001b[0m \u001b[0mline\u001b[0m\u001b[0;34m:\u001b[0m\u001b[0mline\u001b[0m \u001b[0;34m!=\u001b[0m \u001b[0mrdd_header\u001b[0m\u001b[0;34m)\u001b[0m\u001b[0;34m\u001b[0m\u001b[0;34m\u001b[0m\u001b[0m\n\u001b[0m\u001b[1;32m      2\u001b[0m \u001b[0mrdd_new\u001b[0m\u001b[0;34m.\u001b[0m\u001b[0mfirst\u001b[0m\u001b[0;34m(\u001b[0m\u001b[0;34m)\u001b[0m\u001b[0;34m\u001b[0m\u001b[0;34m\u001b[0m\u001b[0m\n",
            "\u001b[0;32m/usr/local/lib/python3.6/dist-packages/pyspark/sql/dataframe.py\u001b[0m in \u001b[0;36mfilter\u001b[0;34m(self, condition)\u001b[0m\n\u001b[1;32m   1364\u001b[0m             \u001b[0mjdf\u001b[0m \u001b[0;34m=\u001b[0m \u001b[0mself\u001b[0m\u001b[0;34m.\u001b[0m\u001b[0m_jdf\u001b[0m\u001b[0;34m.\u001b[0m\u001b[0mfilter\u001b[0m\u001b[0;34m(\u001b[0m\u001b[0mcondition\u001b[0m\u001b[0;34m.\u001b[0m\u001b[0m_jc\u001b[0m\u001b[0;34m)\u001b[0m\u001b[0;34m\u001b[0m\u001b[0;34m\u001b[0m\u001b[0m\n\u001b[1;32m   1365\u001b[0m         \u001b[0;32melse\u001b[0m\u001b[0;34m:\u001b[0m\u001b[0;34m\u001b[0m\u001b[0;34m\u001b[0m\u001b[0m\n\u001b[0;32m-> 1366\u001b[0;31m             \u001b[0;32mraise\u001b[0m \u001b[0mTypeError\u001b[0m\u001b[0;34m(\u001b[0m\u001b[0;34m\"condition should be string or Column\"\u001b[0m\u001b[0;34m)\u001b[0m\u001b[0;34m\u001b[0m\u001b[0;34m\u001b[0m\u001b[0m\n\u001b[0m\u001b[1;32m   1367\u001b[0m         \u001b[0;32mreturn\u001b[0m \u001b[0mDataFrame\u001b[0m\u001b[0;34m(\u001b[0m\u001b[0mjdf\u001b[0m\u001b[0;34m,\u001b[0m \u001b[0mself\u001b[0m\u001b[0;34m.\u001b[0m\u001b[0msql_ctx\u001b[0m\u001b[0;34m)\u001b[0m\u001b[0;34m\u001b[0m\u001b[0;34m\u001b[0m\u001b[0m\n\u001b[1;32m   1368\u001b[0m \u001b[0;34m\u001b[0m\u001b[0m\n",
            "\u001b[0;31mTypeError\u001b[0m: condition should be string or Column"
          ]
        }
      ]
    },
    {
      "cell_type": "code",
      "metadata": {
        "id": "XRIEbWIloHXV",
        "colab_type": "code",
        "outputId": "a51f1445-20d5-47d1-8c88-828c63bcbb71",
        "colab": {
          "base_uri": "https://localhost:8080/",
          "height": 935
        }
      },
      "source": [
        "#rdd_new.filter(lambda line : line.split(\",\")).sample(withReplacement=False,fraction=0.0001).first()\n",
        "output_rdd = rdd_new.filter(lambda line : line.split(\",\")[5]=='ASSAULT').\\\n",
        "                     map(lambda line : (line.split(\",\")[1],line.split(\",\")[6])).\\\n",
        "                     sample(withReplacement=False,fraction=0.0001).\\\n",
        "                     collect()\n",
        "output_rdd"
      ],
      "execution_count": 0,
      "outputs": [
        {
          "output_type": "execute_result",
          "data": {
            "text/plain": [
              "[('G648270', 'AGGRAVATED: HANDGUN'),\n",
              " ('HY270154', 'AGGRAVATED: HANDGUN'),\n",
              " ('HY394621', 'SIMPLE'),\n",
              " ('HY504731', 'AGGRAVATED: OTHER FIREARM'),\n",
              " ('HZ200806', 'SIMPLE'),\n",
              " ('HZ302671', 'SIMPLE'),\n",
              " ('HZ354501', 'SIMPLE'),\n",
              " ('HZ521821', 'AGGRAVATED: HANDGUN'),\n",
              " ('JB262796', 'AGGRAVATED: HANDGUN'),\n",
              " ('JB283580', 'SIMPLE'),\n",
              " ('JB395720', 'SIMPLE'),\n",
              " ('JB447394', 'SIMPLE'),\n",
              " ('JB570892', 'SIMPLE'),\n",
              " ('JC119602', 'SIMPLE'),\n",
              " ('JC208474', 'SIMPLE'),\n",
              " ('G340551', 'SIMPLE'),\n",
              " ('HH165841', 'AGGRAVATED: HANDGUN'),\n",
              " ('HH427720', 'SIMPLE'),\n",
              " ('HH541489', 'SIMPLE'),\n",
              " ('HH547902', 'AGGRAVATED:KNIFE/CUTTING INSTR'),\n",
              " ('HH707907', 'SIMPLE'),\n",
              " ('HJ206263', 'SIMPLE'),\n",
              " ('HJ680436', 'SIMPLE'),\n",
              " ('HK137699', 'AGGRAVATED: HANDGUN'),\n",
              " ('HK201784', 'SIMPLE'),\n",
              " ('HK647431', 'SIMPLE'),\n",
              " ('HK774664', 'SIMPLE'),\n",
              " ('HL409825', 'SIMPLE'),\n",
              " ('HL580434', 'SIMPLE'),\n",
              " ('HL658878', 'PRO EMP HANDS NO/MIN INJURY'),\n",
              " ('HL721934', 'SIMPLE'),\n",
              " ('HM650744', 'SIMPLE'),\n",
              " ('HN165367', 'SIMPLE'),\n",
              " ('HN208310', 'SIMPLE'),\n",
              " ('HN759384', 'SIMPLE'),\n",
              " ('HP222084', 'PRO EMP HANDS NO/MIN INJURY'),\n",
              " ('HP317802', 'SIMPLE'),\n",
              " ('HP351056', 'SIMPLE'),\n",
              " ('HP670528', 'AGGRAVATED:KNIFE/CUTTING INSTR'),\n",
              " ('HR189547', 'AGGRAVATED: OTHER DANG WEAPON'),\n",
              " ('HR429569', 'SIMPLE'),\n",
              " ('HS268781', 'SIMPLE'),\n",
              " ('HT123243', 'SIMPLE'),\n",
              " ('HV290099', 'AGGRAVATED: OTHER DANG WEAPON'),\n",
              " ('HV398554', 'SIMPLE'),\n",
              " ('HV484296', 'SIMPLE'),\n",
              " ('HV567441', 'SIMPLE'),\n",
              " ('HW324734', 'SIMPLE'),\n",
              " ('HW456034', 'SIMPLE'),\n",
              " ('HW567643', 'SIMPLE'),\n",
              " ('HX329365', 'AGGRAVATED:KNIFE/CUTTING INSTR')]"
            ]
          },
          "metadata": {
            "tags": []
          },
          "execution_count": 56
        }
      ]
    },
    {
      "cell_type": "markdown",
      "metadata": {
        "id": "fF1zRtBgGZsD",
        "colab_type": "text"
      },
      "source": [
        "##Display the first 5 rows of the column IUCR"
      ]
    },
    {
      "cell_type": "code",
      "metadata": {
        "id": "cp1jEKuHpOQU",
        "colab_type": "code",
        "outputId": "74004fd6-ee2b-4de9-a0e0-26acd45c3a60",
        "colab": {
          "base_uri": "https://localhost:8080/",
          "height": 187
        }
      },
      "source": [
        "# Spark SQL\n",
        "spark.sql(\"SELECT iucr FROM reported_crimes LIMIT 5\").show()"
      ],
      "execution_count": 0,
      "outputs": [
        {
          "output_type": "stream",
          "text": [
            "+----+\n",
            "|iucr|\n",
            "+----+\n",
            "|0910|\n",
            "|1710|\n",
            "|0910|\n",
            "|0820|\n",
            "|0820|\n",
            "+----+\n",
            "\n"
          ],
          "name": "stdout"
        }
      ]
    },
    {
      "cell_type": "code",
      "metadata": {
        "id": "3nTqfjPwGqNR",
        "colab_type": "code",
        "outputId": "8119078f-2887-4daf-8dd3-df90a5f44bc1",
        "colab": {
          "base_uri": "https://localhost:8080/",
          "height": 204
        }
      },
      "source": [
        "# Dataframe API\n",
        "rc.select(col(\"IUCR\")).show(5)"
      ],
      "execution_count": 0,
      "outputs": [
        {
          "output_type": "stream",
          "text": [
            "+----+\n",
            "|IUCR|\n",
            "+----+\n",
            "|0910|\n",
            "|1710|\n",
            "|0910|\n",
            "|0820|\n",
            "|0820|\n",
            "+----+\n",
            "only showing top 5 rows\n",
            "\n"
          ],
          "name": "stdout"
        }
      ]
    },
    {
      "cell_type": "markdown",
      "metadata": {
        "id": "WNq2pJqOIR95",
        "colab_type": "text"
      },
      "source": [
        "##Display only the first 4 rows of the column names Case Number, Date and Arrest"
      ]
    },
    {
      "cell_type": "code",
      "metadata": {
        "id": "Zbhys6hZG-RO",
        "colab_type": "code",
        "outputId": "c49081e8-6c82-4493-cde3-2f5f46cb6827",
        "colab": {
          "base_uri": "https://localhost:8080/",
          "height": 170
        }
      },
      "source": [
        "#Spark SQL\n",
        "spark.sql(\"SELECT case_number,date,arrest FROM reported_crimes LIMIT 4\").show()"
      ],
      "execution_count": 0,
      "outputs": [
        {
          "output_type": "stream",
          "text": [
            "+-----------+-------------------+------+\n",
            "|case_number|               date|arrest|\n",
            "+-----------+-------------------+------+\n",
            "|    G536683|2001-09-06 20:00:00|  true|\n",
            "|    G534867|2001-09-06 20:12:38| false|\n",
            "|    G536731|2001-09-02 23:30:00| false|\n",
            "|    G532276|2001-09-05 17:15:00|  true|\n",
            "+-----------+-------------------+------+\n",
            "\n"
          ],
          "name": "stdout"
        }
      ]
    },
    {
      "cell_type": "code",
      "metadata": {
        "id": "lYQWP2fjIkFO",
        "colab_type": "code",
        "outputId": "f08e4b38-638d-4bf0-c426-f268706748ae",
        "colab": {
          "base_uri": "https://localhost:8080/",
          "height": 187
        }
      },
      "source": [
        "#Dataframe API\n",
        "rc.select([\"case_number\",\"date\",\"arrest\"]).show(4)"
      ],
      "execution_count": 0,
      "outputs": [
        {
          "output_type": "stream",
          "text": [
            "+-----------+-------------------+------+\n",
            "|case_number|               date|arrest|\n",
            "+-----------+-------------------+------+\n",
            "|    G536683|2001-09-06 20:00:00|  true|\n",
            "|    G534867|2001-09-06 20:12:38| false|\n",
            "|    G536731|2001-09-02 23:30:00| false|\n",
            "|    G532276|2001-09-05 17:15:00|  true|\n",
            "+-----------+-------------------+------+\n",
            "only showing top 4 rows\n",
            "\n"
          ],
          "name": "stdout"
        }
      ]
    },
    {
      "cell_type": "markdown",
      "metadata": {
        "id": "xMLCFjG4JB6o",
        "colab_type": "text"
      },
      "source": [
        "## Add a column with name One, with entries all 1s \n",
        "\n",
        "\n"
      ]
    },
    {
      "cell_type": "code",
      "metadata": {
        "id": "8Lyb836SJyhu",
        "colab_type": "code",
        "outputId": "67270227-16a2-4989-d045-93f008aaf686",
        "colab": {
          "base_uri": "https://localhost:8080/",
          "height": 207
        }
      },
      "source": [
        "# Spark SQL\n",
        "add1_df = spark.sql(\"SELECT *,1 AS One FROM reported_crimes LIMIT 5\").show()\n",
        "add1_df"
      ],
      "execution_count": 0,
      "outputs": [
        {
          "output_type": "stream",
          "text": [
            "+-------+-----------+-------------------+------------------+----+--------------------+--------------------+--------------------+------+--------+----+--------+----+--------------+-------+------------+------------+----+--------------------+------------+-------------+--------------------+---+\n",
            "|     ID|Case_Number|               Date|             Block|IUCR|        Primary_Type|         Description|Location_Description|Arrest|Domestic|Beat|District|Ward|Community_Area|FBICode|X_Coordinate|Y_Coordinate|Year|          Updated_On|    Latitude|    Longitude|            Location|One|\n",
            "+-------+-----------+-------------------+------------------+----+--------------------+--------------------+--------------------+------+--------+----+--------+----+--------------+-------+------------+------------+----+--------------------+------------+-------------+--------------------+---+\n",
            "|1730080|    G536683|2001-09-06 20:00:00|093XX S CRANDON AV|0910| MOTOR VEHICLE THEFT|          AUTOMOBILE|              STREET|  true|   false|0413|     004|null|          null|     07|     1193108|     1843138|2001|08/17/2015 03:03:...|41.724529445|-87.568237637|(41.724529445, -8...|  1|\n",
            "|1730081|    G534867|2001-09-06 20:12:38|  055XX S STATE ST|1710|OFFENSE INVOLVING...|ENDANGERING LIFE/...|            SIDEWALK| false|   false|0233|     002|null|          null|     26|     1177260|     1868230|2001|08/17/2015 03:03:...|41.793756617|-87.625531897|(41.793756617, -8...|  1|\n",
            "|1730082|    G536731|2001-09-02 23:30:00|     015XX E 72 PL|0910| MOTOR VEHICLE THEFT|          AUTOMOBILE|              STREET| false|   false|0324|     003|null|          null|     07|     1187677|     1857262|2001|08/17/2015 03:03:...|41.763417826|-87.587682714|(41.763417826, -8...|  1|\n",
            "|1730084|    G532276|2001-09-05 17:15:00| 063XX S DREXEL AV|0820|               THEFT|      $500 AND UNDER|       PARK PROPERTY|  true|   false|0312|     003|null|          null|     06|     1183436|     1863397|2001|08/17/2015 03:03:...|41.780352676|-87.603035702|(41.780352676, -8...|  1|\n",
            "|1730087|    G536760|2001-09-07 12:00:00|005XX N HALSTED ST|0820|               THEFT|      $500 AND UNDER|              STREET| false|   false|1323|     012|null|          null|     06|     1170991|     1903929|2001|08/17/2015 03:03:...|41.891857114|-87.647474422|(41.891857114, -8...|  1|\n",
            "+-------+-----------+-------------------+------------------+----+--------------------+--------------------+--------------------+------+--------+----+--------+----+--------------+-------+------------+------------+----+--------------------+------------+-------------+--------------------+---+\n",
            "\n"
          ],
          "name": "stdout"
        }
      ]
    },
    {
      "cell_type": "code",
      "metadata": {
        "id": "2KHILBbBIxW-",
        "colab_type": "code",
        "outputId": "7aa35da8-9311-4ddb-fad3-2b2d16216274",
        "colab": {
          "base_uri": "https://localhost:8080/",
          "height": 224
        }
      },
      "source": [
        "# Dataframe API\n",
        "add1_df = rc.withColumn(\"One\",lit(1))\n",
        "add1_df.show(5)"
      ],
      "execution_count": 0,
      "outputs": [
        {
          "output_type": "stream",
          "text": [
            "+-------+-----------+-------------------+------------------+----+--------------------+--------------------+--------------------+------+--------+----+--------+----+--------------+-------+------------+------------+----+--------------------+------------+-------------+--------------------+---+\n",
            "|     ID|Case_Number|               Date|             Block|IUCR|        Primary_Type|         Description|Location_Description|Arrest|Domestic|Beat|District|Ward|Community_Area|FBICode|X_Coordinate|Y_Coordinate|Year|          Updated_On|    Latitude|    Longitude|            Location|One|\n",
            "+-------+-----------+-------------------+------------------+----+--------------------+--------------------+--------------------+------+--------+----+--------+----+--------------+-------+------------+------------+----+--------------------+------------+-------------+--------------------+---+\n",
            "|1730080|    G536683|2001-09-06 20:00:00|093XX S CRANDON AV|0910| MOTOR VEHICLE THEFT|          AUTOMOBILE|              STREET|  true|   false|0413|     004|null|          null|     07|     1193108|     1843138|2001|08/17/2015 03:03:...|41.724529445|-87.568237637|(41.724529445, -8...|  1|\n",
            "|1730081|    G534867|2001-09-06 20:12:38|  055XX S STATE ST|1710|OFFENSE INVOLVING...|ENDANGERING LIFE/...|            SIDEWALK| false|   false|0233|     002|null|          null|     26|     1177260|     1868230|2001|08/17/2015 03:03:...|41.793756617|-87.625531897|(41.793756617, -8...|  1|\n",
            "|1730082|    G536731|2001-09-02 23:30:00|     015XX E 72 PL|0910| MOTOR VEHICLE THEFT|          AUTOMOBILE|              STREET| false|   false|0324|     003|null|          null|     07|     1187677|     1857262|2001|08/17/2015 03:03:...|41.763417826|-87.587682714|(41.763417826, -8...|  1|\n",
            "|1730084|    G532276|2001-09-05 17:15:00| 063XX S DREXEL AV|0820|               THEFT|      $500 AND UNDER|       PARK PROPERTY|  true|   false|0312|     003|null|          null|     06|     1183436|     1863397|2001|08/17/2015 03:03:...|41.780352676|-87.603035702|(41.780352676, -8...|  1|\n",
            "|1730087|    G536760|2001-09-07 12:00:00|005XX N HALSTED ST|0820|               THEFT|      $500 AND UNDER|              STREET| false|   false|1323|     012|null|          null|     06|     1170991|     1903929|2001|08/17/2015 03:03:...|41.891857114|-87.647474422|(41.891857114, -8...|  1|\n",
            "+-------+-----------+-------------------+------------------+----+--------------------+--------------------+--------------------+------+--------+----+--------+----+--------------+-------+------------+------------+----+--------------------+------------+-------------+--------------------+---+\n",
            "only showing top 5 rows\n",
            "\n"
          ],
          "name": "stdout"
        }
      ]
    },
    {
      "cell_type": "markdown",
      "metadata": {
        "id": "_IJ494MlJotf",
        "colab_type": "text"
      },
      "source": [
        "##Remove the column IUCR"
      ]
    },
    {
      "cell_type": "code",
      "metadata": {
        "id": "1MdFehpSJTUH",
        "colab_type": "code",
        "outputId": "f559631e-cf7c-42a9-ae98-c7659694b985",
        "colab": {
          "base_uri": "https://localhost:8080/",
          "height": 207
        }
      },
      "source": [
        "#Spark SQL\n",
        "minus_iucr = spark.sql(\"SELECT  id,case_number,date,block,primary_type,description,location_description,arrest,domestic,beat,district,ward,community_area,fbicode,x_coordinate,y_coordinate,year,updated_on,latitude,longitude,location FROM reported_crimes LIMIT 5\")\n",
        "minus_iucr.show()"
      ],
      "execution_count": 0,
      "outputs": [
        {
          "output_type": "stream",
          "text": [
            "+-------+-----------+-------------------+------------------+--------------------+--------------------+--------------------+------+--------+----+--------+----+--------------+-------+------------+------------+----+--------------------+------------+-------------+--------------------+\n",
            "|     id|case_number|               date|             block|        primary_type|         description|location_description|arrest|domestic|beat|district|ward|community_area|fbicode|x_coordinate|y_coordinate|year|          updated_on|    latitude|    longitude|            location|\n",
            "+-------+-----------+-------------------+------------------+--------------------+--------------------+--------------------+------+--------+----+--------+----+--------------+-------+------------+------------+----+--------------------+------------+-------------+--------------------+\n",
            "|1730080|    G536683|2001-09-06 20:00:00|093XX S CRANDON AV| MOTOR VEHICLE THEFT|          AUTOMOBILE|              STREET|  true|   false|0413|     004|null|          null|     07|     1193108|     1843138|2001|08/17/2015 03:03:...|41.724529445|-87.568237637|(41.724529445, -8...|\n",
            "|1730081|    G534867|2001-09-06 20:12:38|  055XX S STATE ST|OFFENSE INVOLVING...|ENDANGERING LIFE/...|            SIDEWALK| false|   false|0233|     002|null|          null|     26|     1177260|     1868230|2001|08/17/2015 03:03:...|41.793756617|-87.625531897|(41.793756617, -8...|\n",
            "|1730082|    G536731|2001-09-02 23:30:00|     015XX E 72 PL| MOTOR VEHICLE THEFT|          AUTOMOBILE|              STREET| false|   false|0324|     003|null|          null|     07|     1187677|     1857262|2001|08/17/2015 03:03:...|41.763417826|-87.587682714|(41.763417826, -8...|\n",
            "|1730084|    G532276|2001-09-05 17:15:00| 063XX S DREXEL AV|               THEFT|      $500 AND UNDER|       PARK PROPERTY|  true|   false|0312|     003|null|          null|     06|     1183436|     1863397|2001|08/17/2015 03:03:...|41.780352676|-87.603035702|(41.780352676, -8...|\n",
            "|1730087|    G536760|2001-09-07 12:00:00|005XX N HALSTED ST|               THEFT|      $500 AND UNDER|              STREET| false|   false|1323|     012|null|          null|     06|     1170991|     1903929|2001|08/17/2015 03:03:...|41.891857114|-87.647474422|(41.891857114, -8...|\n",
            "+-------+-----------+-------------------+------------------+--------------------+--------------------+--------------------+------+--------+----+--------+----+--------------+-------+------------+------------+----+--------------------+------------+-------------+--------------------+\n",
            "\n"
          ],
          "name": "stdout"
        }
      ]
    },
    {
      "cell_type": "code",
      "metadata": {
        "id": "WFxSDIIQKjHK",
        "colab_type": "code",
        "outputId": "61f7978a-48af-4b8f-8558-1fabb1e07ba5",
        "colab": {
          "base_uri": "https://localhost:8080/",
          "height": 224
        }
      },
      "source": [
        "#Dataframe API\n",
        "rc.drop(\"IUCR\").show(5)"
      ],
      "execution_count": 0,
      "outputs": [
        {
          "output_type": "stream",
          "text": [
            "+-------+-----------+-------------------+------------------+--------------------+--------------------+--------------------+------+--------+----+--------+----+--------------+-------+------------+------------+----+--------------------+------------+-------------+--------------------+\n",
            "|     ID|Case_Number|               Date|             Block|        Primary_Type|         Description|Location_Description|Arrest|Domestic|Beat|District|Ward|Community_Area|FBICode|X_Coordinate|Y_Coordinate|Year|          Updated_On|    Latitude|    Longitude|            Location|\n",
            "+-------+-----------+-------------------+------------------+--------------------+--------------------+--------------------+------+--------+----+--------+----+--------------+-------+------------+------------+----+--------------------+------------+-------------+--------------------+\n",
            "|1730080|    G536683|2001-09-06 20:00:00|093XX S CRANDON AV| MOTOR VEHICLE THEFT|          AUTOMOBILE|              STREET|  true|   false|0413|     004|null|          null|     07|     1193108|     1843138|2001|08/17/2015 03:03:...|41.724529445|-87.568237637|(41.724529445, -8...|\n",
            "|1730081|    G534867|2001-09-06 20:12:38|  055XX S STATE ST|OFFENSE INVOLVING...|ENDANGERING LIFE/...|            SIDEWALK| false|   false|0233|     002|null|          null|     26|     1177260|     1868230|2001|08/17/2015 03:03:...|41.793756617|-87.625531897|(41.793756617, -8...|\n",
            "|1730082|    G536731|2001-09-02 23:30:00|     015XX E 72 PL| MOTOR VEHICLE THEFT|          AUTOMOBILE|              STREET| false|   false|0324|     003|null|          null|     07|     1187677|     1857262|2001|08/17/2015 03:03:...|41.763417826|-87.587682714|(41.763417826, -8...|\n",
            "|1730084|    G532276|2001-09-05 17:15:00| 063XX S DREXEL AV|               THEFT|      $500 AND UNDER|       PARK PROPERTY|  true|   false|0312|     003|null|          null|     06|     1183436|     1863397|2001|08/17/2015 03:03:...|41.780352676|-87.603035702|(41.780352676, -8...|\n",
            "|1730087|    G536760|2001-09-07 12:00:00|005XX N HALSTED ST|               THEFT|      $500 AND UNDER|              STREET| false|   false|1323|     012|null|          null|     06|     1170991|     1903929|2001|08/17/2015 03:03:...|41.891857114|-87.647474422|(41.891857114, -8...|\n",
            "+-------+-----------+-------------------+------------------+--------------------+--------------------+--------------------+------+--------+----+--------+----+--------------+-------+------------+------------+----+--------------------+------------+-------------+--------------------+\n",
            "only showing top 5 rows\n",
            "\n"
          ],
          "name": "stdout"
        }
      ]
    },
    {
      "cell_type": "markdown",
      "metadata": {
        "id": "HyLtaJLtPtCf",
        "colab_type": "text"
      },
      "source": [
        "##Add the reported crimes for an additional day, 12-Nov-2018, to our dataset."
      ]
    },
    {
      "cell_type": "code",
      "metadata": {
        "id": "4J-t5n3xLh7h",
        "colab_type": "code",
        "outputId": "5ceb159f-7bba-42a3-cfe3-32b5e42b9d49",
        "colab": {
          "base_uri": "https://localhost:8080/",
          "height": 224
        }
      },
      "source": [
        "#Dataframe API (Tried using a read parquet..Was resulting in empty records..Hence using csv)\n",
        "rc_12Nov2018 = spark.read.csv('reported-crimes.csv',header=True).withColumn('Date',to_timestamp(col('Date'),'MM/dd/yyyy hh:mm:ss a')).filter(col('Date') == lit('2018-11-12'))\n",
        "rc_12Nov2018.show(5)\n",
        "\n",
        "#Before Union\n",
        "#rc.count()\n",
        "#6752637\n",
        "\n",
        "#After Union\n",
        "rc = rc.union(rc_12Nov2018)        ## Looks like the dataframe operations slowed down after this UNION operation\n",
        "rc.count()\n",
        "rc.orderBy(\"Date\",ascending=False).show(5)\n"
      ],
      "execution_count": 0,
      "outputs": [
        {
          "output_type": "stream",
          "text": [
            "+--------+-----------+-------------------+--------------------+----+-------------------+--------------------+--------------------+------+--------+----+--------+----+--------------+-------+------------+------------+----+--------------------+------------+-------------+--------------------+\n",
            "|      ID|Case_Number|               Date|               Block|IUCR|       Primary_Type|         Description|Location_Description|Arrest|Domestic|Beat|District|Ward|Community_Area|FBICode|X_Coordinate|Y_Coordinate|Year|          Updated_On|    Latitude|    Longitude|            Location|\n",
            "+--------+-----------+-------------------+--------------------+----+-------------------+--------------------+--------------------+------+--------+----+--------+----+--------------+-------+------------+------------+----+--------------------+------------+-------------+--------------------+\n",
            "|11505149|   JB513151|2018-11-12 00:00:00|  003XX S WHIPPLE ST|0810|              THEFT|           OVER $500|              STREET| false|   false|1124|     011|  28|            27|     06|     1156099|     1898319|2018|11/19/2018 04:22:...|41.876776356|-87.702317641|(41.876776356, -8...|\n",
            "|11516594|   JB528186|2018-11-12 00:00:00| 049XX S PRAIRIE AVE|2826|      OTHER OFFENSE|HARASSMENT BY ELE...|               OTHER| false|   false|0224|     002|   3|            38|     26|     1178879|     1872259|2018|11/28/2018 04:14:...|41.804775828|-87.619472488|(41.804775828, -8...|\n",
            "|11540042|   JB559262|2018-11-12 00:00:00| 010XX N DEARBORN ST|1140| DECEPTIVE PRACTICE|        EMBEZZLEMENT|   CONVENIENCE STORE|  true|   false|1824|     018|   2|             8|     12|     1175747|     1907348|2018|03/16/2019 04:01:...|41.901133376|-87.629904979|(41.901133376, -8...|\n",
            "|11504330|   JB512058|2018-11-10 23:55:00|021XX W GREENLEAF...|0820|              THEFT|      $500 AND UNDER|              STREET| false|   false|2411|     024|  50|             2|     06|     1160583|     1946926|2018|11/17/2018 04:14:...|42.010065214|-87.684502849|(42.010065214, -8...|\n",
            "|11503920|   JB511504|2018-11-10 23:53:00|081XX S HERMITAGE...|0910|MOTOR VEHICLE THEFT|          AUTOMOBILE|           APARTMENT| false|   false|0614|     006|  21|            71|     07|     1166095|     1850727|2018|11/17/2018 04:14:...|41.745971025|-87.666970419|(41.745971025, -8...|\n",
            "+--------+-----------+-------------------+--------------------+----+-------------------+--------------------+--------------------+------+--------+----+--------+----+--------------+-------+------------+------------+----+--------------------+------------+-------------+--------------------+\n",
            "only showing top 5 rows\n",
            "\n"
          ],
          "name": "stdout"
        }
      ]
    },
    {
      "cell_type": "markdown",
      "metadata": {
        "id": "CMnOiL14TXDK",
        "colab_type": "text"
      },
      "source": [
        "##What are the top 10 number of reported crimes by Primary type, in descending order of occurence?"
      ]
    },
    {
      "cell_type": "code",
      "metadata": {
        "id": "DmDaQlNuS1wh",
        "colab_type": "code",
        "outputId": "bf07a239-b0a8-4aa9-a40e-e3bd8a360f8d",
        "colab": {
          "base_uri": "https://localhost:8080/",
          "height": 272
        }
      },
      "source": [
        "#Spark SQL\n",
        "spark.sql(\"SELECT COUNT(1) as reported_crime_count,primary_type FROM reported_crimes GROUP BY primary_type ORDER BY reported_crime_count DESC LIMIT 10\").show()\n"
      ],
      "execution_count": 0,
      "outputs": [
        {
          "output_type": "stream",
          "text": [
            "+--------------------+-------------------+\n",
            "|reported_crime_count|       primary_type|\n",
            "+--------------------+-------------------+\n",
            "|             1418421|              THEFT|\n",
            "|             1232219|            BATTERY|\n",
            "|              771498|    CRIMINAL DAMAGE|\n",
            "|              711647|          NARCOTICS|\n",
            "|              418832|      OTHER OFFENSE|\n",
            "|              418507|            ASSAULT|\n",
            "|              388028|           BURGLARY|\n",
            "|              314141|MOTOR VEHICLE THEFT|\n",
            "|              265517| DECEPTIVE PRACTICE|\n",
            "|              255599|            ROBBERY|\n",
            "+--------------------+-------------------+\n",
            "\n"
          ],
          "name": "stdout"
        }
      ]
    },
    {
      "cell_type": "code",
      "metadata": {
        "id": "k4HlJHJrUM4m",
        "colab_type": "code",
        "outputId": "ce18fe5e-ce4f-4f35-a23b-31856e3c007e",
        "colab": {
          "base_uri": "https://localhost:8080/",
          "height": 289
        }
      },
      "source": [
        "# Dataframe API\n",
        "rc.groupBy(\"primary_type\").count().orderBy(\"count\",ascending=False).select([\"count\",\"primary_type\"]).show(10)"
      ],
      "execution_count": 0,
      "outputs": [
        {
          "output_type": "stream",
          "text": [
            "+-------+-------------------+\n",
            "|  count|       primary_type|\n",
            "+-------+-------------------+\n",
            "|1418421|              THEFT|\n",
            "|1232219|            BATTERY|\n",
            "| 771498|    CRIMINAL DAMAGE|\n",
            "| 711647|          NARCOTICS|\n",
            "| 418832|      OTHER OFFENSE|\n",
            "| 418507|            ASSAULT|\n",
            "| 388028|           BURGLARY|\n",
            "| 314141|MOTOR VEHICLE THEFT|\n",
            "| 265517| DECEPTIVE PRACTICE|\n",
            "| 255599|            ROBBERY|\n",
            "+-------+-------------------+\n",
            "only showing top 10 rows\n",
            "\n"
          ],
          "name": "stdout"
        }
      ]
    },
    {
      "cell_type": "markdown",
      "metadata": {
        "id": "7hpvLlQnhYyJ",
        "colab_type": "text"
      },
      "source": [
        "##What percentage of reported crimes resulted in an arrest?"
      ]
    },
    {
      "cell_type": "code",
      "metadata": {
        "id": "4QziJ-xUUgqN",
        "colab_type": "code",
        "outputId": "0375ce4d-54ff-49af-fd46-8e23542ee0fc",
        "colab": {
          "base_uri": "https://localhost:8080/",
          "height": 34
        }
      },
      "source": [
        "#Dataframe API\n",
        "rc.filter(col(\"arrest\") == \"true\").count()*100/rc.count()"
      ],
      "execution_count": 0,
      "outputs": [
        {
          "output_type": "execute_result",
          "data": {
            "text/plain": [
              "27.75412035327828"
            ]
          },
          "metadata": {
            "tags": []
          },
          "execution_count": 126
        }
      ]
    },
    {
      "cell_type": "code",
      "metadata": {
        "id": "F8ECUderjZU1",
        "colab_type": "code",
        "outputId": "2f8bf758-6bc6-45bc-a82c-bcf7cd74791e",
        "colab": {
          "base_uri": "https://localhost:8080/",
          "height": 119
        }
      },
      "source": [
        "#Spark SQL\n",
        "spark.sql(\"SELECT (COUNT(1) * 100 / (SELECT COUNT(1) FROM reported_crimes)) as Arrest_percent FROM  reported_crimes WHERE arrest = 'true'\").show()"
      ],
      "execution_count": 0,
      "outputs": [
        {
          "output_type": "stream",
          "text": [
            "+-----------------+\n",
            "|   Arrest_percent|\n",
            "+-----------------+\n",
            "|27.75412035327828|\n",
            "+-----------------+\n",
            "\n"
          ],
          "name": "stdout"
        }
      ]
    },
    {
      "cell_type": "markdown",
      "metadata": {
        "id": "95QL7nJ9hb9g",
        "colab_type": "text"
      },
      "source": [
        "## What are the top 3 locations for reported crimes?"
      ]
    },
    {
      "cell_type": "code",
      "metadata": {
        "id": "CMddpwI4hiLm",
        "colab_type": "code",
        "outputId": "22632273-eae8-41cd-f25d-9d65c5fa355e",
        "colab": {
          "base_uri": "https://localhost:8080/",
          "height": 170
        }
      },
      "source": [
        "#Dataframe API\n",
        "rc.groupBy(\"location_description\").count().orderBy(\"count\",ascending=False).show(3)"
      ],
      "execution_count": 0,
      "outputs": [
        {
          "output_type": "stream",
          "text": [
            "+--------------------+-------+\n",
            "|location_description|  count|\n",
            "+--------------------+-------+\n",
            "|              STREET|1770573|\n",
            "|           RESIDENCE|1144625|\n",
            "|           APARTMENT| 698154|\n",
            "+--------------------+-------+\n",
            "only showing top 3 rows\n",
            "\n"
          ],
          "name": "stdout"
        }
      ]
    },
    {
      "cell_type": "code",
      "metadata": {
        "id": "EqXOfJT9ix2E",
        "colab_type": "code",
        "outputId": "de6005ad-19d3-4a97-e7ef-55c470f4d5ef",
        "colab": {
          "base_uri": "https://localhost:8080/",
          "height": 153
        }
      },
      "source": [
        "#Spark SQL\n",
        "spark.sql(\"SELECT COUNT(1),location_description FROM reported_crimes GROUP BY location_description ORDER BY COUNT(1) DESC LIMIT 3\").show()"
      ],
      "execution_count": 0,
      "outputs": [
        {
          "output_type": "stream",
          "text": [
            "+--------+--------------------+\n",
            "|count(1)|location_description|\n",
            "+--------+--------------------+\n",
            "| 1770573|              STREET|\n",
            "| 1144625|           RESIDENCE|\n",
            "|  698154|           APARTMENT|\n",
            "+--------+--------------------+\n",
            "\n"
          ],
          "name": "stdout"
        }
      ]
    },
    {
      "cell_type": "markdown",
      "metadata": {
        "id": "0C1-sVlUtLkq",
        "colab_type": "text"
      },
      "source": [
        "##What is 3 days earlier that the oldest date and 3 days later than the most recent date?"
      ]
    },
    {
      "cell_type": "code",
      "metadata": {
        "id": "bHTVbIgDjRAu",
        "colab_type": "code",
        "outputId": "1fecd32a-63e9-4d24-a4ef-cde4d643d37a",
        "colab": {
          "base_uri": "https://localhost:8080/",
          "height": 119
        }
      },
      "source": [
        "#Dataframe API\n",
        "from pyspark.sql import functions\n",
        "from pyspark.sql.functions import min,max,date_add,date_sub\n",
        "\n",
        "rc.select(date_sub(min(col(\"Date\")),3).alias(\"min_date\"),date_add(max(col(\"Date\")),3).alias(\"max_date\")).show()"
      ],
      "execution_count": 0,
      "outputs": [
        {
          "output_type": "stream",
          "text": [
            "+----------+----------+\n",
            "|  min_date|  max_date|\n",
            "+----------+----------+\n",
            "|2000-12-29|2018-11-13|\n",
            "+----------+----------+\n",
            "\n"
          ],
          "name": "stdout"
        }
      ]
    },
    {
      "cell_type": "code",
      "metadata": {
        "id": "EjbkO5N2kLJT",
        "colab_type": "code",
        "outputId": "b349ec6d-ac32-4117-edf4-3fc2d9d8f484",
        "colab": {
          "base_uri": "https://localhost:8080/",
          "height": 119
        }
      },
      "source": [
        "#Spark SQL\n",
        "spark.sql(\"SELECT date_sub(min(date),3) min_date,date_add(max(date),3) max_date FROM reported_crimes\").show()"
      ],
      "execution_count": 0,
      "outputs": [
        {
          "output_type": "stream",
          "text": [
            "+----------+----------+\n",
            "|  min_date|  max_date|\n",
            "+----------+----------+\n",
            "|2000-12-29|2018-11-13|\n",
            "+----------+----------+\n",
            "\n"
          ],
          "name": "stdout"
        }
      ]
    },
    {
      "cell_type": "markdown",
      "metadata": {
        "id": "Q9Yax5oueL3S",
        "colab_type": "text"
      },
      "source": [
        "## Create a Dataframe from scratch and convert string to date,timestamp"
      ]
    },
    {
      "cell_type": "code",
      "metadata": {
        "id": "FEUPzCf6vDe8",
        "colab_type": "code",
        "outputId": "0aefd4d0-60c1-4668-f281-437cddef234d",
        "colab": {
          "base_uri": "https://localhost:8080/",
          "height": 323
        }
      },
      "source": [
        "from pyspark.sql.functions import to_date,to_timestamp\n",
        "df = spark.createDataFrame([(\"2019-12-25 01:30:00 PM\",\"ABC\")],[\"Christmas_Day\",\"random_col\"])\n",
        "df.show(truncate=False)\n",
        "\n",
        "#Dataframe API\n",
        "df.select(to_date(\"Christmas_Day\",\"yyyy-MM-dd hh:mm:ss aa\"),to_timestamp(\"Christmas_Day\",\"yyyy-MM-dd hh:mm:ss aa\")).show()\n",
        "\n",
        "#Spark SQL\n",
        "df.createOrReplaceTempView(\"date_table\")\n",
        "spark.sql(\"SELECT to_date(Christmas_Day,'yyyy-MM-dd hh:mm:ss aa'),to_timestamp(Christmas_Day,'yyyy-MM-dd hh:mm:ss aa') FROM date_table\").show()"
      ],
      "execution_count": 0,
      "outputs": [
        {
          "output_type": "stream",
          "text": [
            "+----------------------+----------+\n",
            "|Christmas_Day         |random_col|\n",
            "+----------------------+----------+\n",
            "|2019-12-25 01:30:00 PM|ABC       |\n",
            "+----------------------+----------+\n",
            "\n",
            "+--------------------------------------------------+-------------------------------------------------------+\n",
            "|to_date(`Christmas_Day`, 'yyyy-MM-dd hh:mm:ss aa')|to_timestamp(`Christmas_Day`, 'yyyy-MM-dd hh:mm:ss aa')|\n",
            "+--------------------------------------------------+-------------------------------------------------------+\n",
            "|                                        2019-12-25|                                    2019-12-25 13:30:00|\n",
            "+--------------------------------------------------+-------------------------------------------------------+\n",
            "\n",
            "+-------------------------------------------------------------+------------------------------------------------------------------+\n",
            "|to_date(date_table.`Christmas_Day`, 'yyyy-MM-dd hh:mm:ss aa')|to_timestamp(date_table.`Christmas_Day`, 'yyyy-MM-dd hh:mm:ss aa')|\n",
            "+-------------------------------------------------------------+------------------------------------------------------------------+\n",
            "|                                                   2019-12-25|                                               2019-12-25 13:30:00|\n",
            "+-------------------------------------------------------------+------------------------------------------------------------------+\n",
            "\n"
          ],
          "name": "stdout"
        }
      ]
    },
    {
      "cell_type": "markdown",
      "metadata": {
        "id": "cPrGOc18e8_z",
        "colab_type": "text"
      },
      "source": [
        "##Working with JOINs"
      ]
    },
    {
      "cell_type": "code",
      "metadata": {
        "id": "zGuxLu-fcNMt",
        "colab_type": "code",
        "outputId": "e074d22c-7828-43d4-a0db-a460b0fed862",
        "colab": {
          "base_uri": "https://localhost:8080/",
          "height": 1000
        }
      },
      "source": [
        "!wget -O police-station.csv https://data.cityofchicago.org/api/views/z8bn-74gv/rows.csv?accessType=DOWNLOAD\n",
        "!ls -lt\n",
        "!head police-station.csv\n",
        "ps = spark.read.csv('police-station.csv',header=True).withColumnRenamed(\"DISTRICT NAME\",\"DISTRICT_NAME\")\n",
        "ps.show()\n",
        "ps.dtypes"
      ],
      "execution_count": 0,
      "outputs": [
        {
          "output_type": "stream",
          "text": [
            "--2020-04-15 20:54:15--  https://data.cityofchicago.org/api/views/z8bn-74gv/rows.csv?accessType=DOWNLOAD\n",
            "Resolving data.cityofchicago.org (data.cityofchicago.org)... 52.206.68.26, 52.206.140.205, 52.206.140.199\n",
            "Connecting to data.cityofchicago.org (data.cityofchicago.org)|52.206.68.26|:443... connected.\n",
            "HTTP request sent, awaiting response... 200 OK\n",
            "Length: unspecified [text/csv]\n",
            "Saving to: ‘police-station.csv’\n",
            "\n",
            "\rpolice-station.csv      [<=>                 ]       0  --.-KB/s               \rpolice-station.csv      [ <=>                ]   5.57K  --.-KB/s    in 0s      \n",
            "\n",
            "2020-04-15 20:54:15 (513 MB/s) - ‘police-station.csv’ saved [5699]\n",
            "\n",
            "total 2085176\n",
            "drwxr-xr-x  2 root root       4096 Apr 15 18:45  spark-warehouse\n",
            "drwx------  4 root root       4096 Apr 15 18:44  drive\n",
            "-rw-r--r--  1 root root 1674980963 Apr 15 11:10  reported-crimes.csv\n",
            "drwxr-xr-x  1 root root       4096 Apr  3 16:24  sample_data\n",
            "-rw-r--r--  1 root root  230091034 Aug 27  2019  spark-2.4.4-bin-hadoop2.7.tgz\n",
            "-rw-r--r--  1 root root  230091034 Aug 27  2019  spark-2.4.4-bin-hadoop2.7.tgz.1\n",
            "drwxr-xr-x 13 1000 1000       4096 Aug 27  2019  spark-2.4.4-bin-hadoop2.7\n",
            "-rw-r--r--  1 root root       5699 Aug 19  2019  police-station.csv\n",
            "-rw-r--r--  1 root root       5699 Aug 19  2019 'rows.csv?accessType=DOWNLOAD'\n",
            "-rw-r--r--  1 root root       5699 Aug 19  2019 'rows.csv?accessType=DOWNLOAD.1'\n",
            "DISTRICT,DISTRICT NAME,ADDRESS,CITY,STATE,ZIP,WEBSITE,PHONE,FAX,TTY,X COORDINATE,Y COORDINATE,LATITUDE,LONGITUDE,LOCATION\n",
            "1,Central,1718 S State St,Chicago,IL,60616,http://home.chicagopolice.org/community/districts/1st-district-central/,312-745-4290,312-745-3694,312-745-3693,1176569.052,1891771.704,41.85837259,-87.62735617,\"(41.8583725929, -87.627356171)\"\n",
            "6,Gresham,7808 S Halsted St,Chicago,IL,60620,http://home.chicagopolice.org/community/districts/6th-district-gresham/,312-745-3617,312-745-3649,312-745-3639,1172283.013,1853022.646,41.75213684,-87.64422891,\"(41.7521368378, -87.6442289066)\"\n",
            "11,Harrison,3151 W Harrison St,Chicago,IL,60612,http://home.chicagopolice.org/community/districts/11th-district-harrison/,312-746-8386,312-746-4281,312-746-5151,1155244.069,1897148.755,41.87358229,-87.70548813,\"(41.8735822883, -87.705488126)\"\n",
            "16,Jefferson Park,5151 N Milwaukee Ave,Chicago,IL,60630,http://home.chicagopolice.org/community/districts/16th-district-jefferson-park/,312-742-4480,312-742-4421,312-742-4423,1138480.758,1933660.473,41.97409445,-87.76614884,\"(41.9740944511, -87.7661488432)\"\n",
            "Headquarters,Headquarters,3510 S Michigan Ave,Chicago,IL,60653,http://home.chicagopolice.org,,,,1177731.401,1881697.404,41.83070169,-87.62339535,\"(41.8307016873, -87.6233953459)\"\n",
            "24,Rogers Park,6464 N Clark St,Chicago,IL,60626,http://home.chicagopolice.org/community/districts/24th-district-rogers-park/,312-744-5907,312-744-6928,312-744-7603,1164193.588,1943199.401,41.99976348,-87.67132429,\"(41.9997634842, -87.6713242922)\"\n",
            "2,Wentworth,5101 S Wentworth Ave,Chicago,IL,60609,http://home.chicagopolice.org/community/districts/2nd-district-wentworth/,312-747-8366,312-747-5396,312-747-6656,1175864.837,1871153.753,41.80181109,-87.63056018,\"(41.8018110912, -87.6305601801)\"\n",
            "7,Englewood,1438 W 63rd St,Chicago,IL,60636,http://home.chicagopolice.org/community/districts/7th-district-englewood/,312-747-8223,312-747-6558,312-747-6652,1167659.235,1863005.522,41.77963154,-87.66088702,\"(41.7796315359, -87.6608870173)\"\n",
            "25,Grand Central,5555 W Grand Ave,Chicago,IL,60639,http://home.chicagopolice.org/community/districts/25th-district-grand-central/,312-746-8605,312-746-4353,312-746-8383,1138770.871,1913442.439,41.91860889,-87.76557448,\"(41.9186088912, -87.765574479)\"\n",
            "+--------------------+-----------------+--------------------+-------+-----+-----+--------------------+------------+------------+------------+------------+------------+-----------+------------+--------------------+\n",
            "|            DISTRICT|    DISTRICT_NAME|             ADDRESS|   CITY|STATE|  ZIP|             WEBSITE|       PHONE|         FAX|         TTY|X COORDINATE|Y COORDINATE|   LATITUDE|   LONGITUDE|            LOCATION|\n",
            "+--------------------+-----------------+--------------------+-------+-----+-----+--------------------+------------+------------+------------+------------+------------+-----------+------------+--------------------+\n",
            "|                   1|          Central|     1718 S State St|Chicago|   IL|60616|http://home.chica...|312-745-4290|312-745-3694|312-745-3693| 1176569.052| 1891771.704|41.85837259|-87.62735617|(41.8583725929, -...|\n",
            "|                   6|          Gresham|   7808 S Halsted St|Chicago|   IL|60620|http://home.chica...|312-745-3617|312-745-3649|312-745-3639| 1172283.013| 1853022.646|41.75213684|-87.64422891|(41.7521368378, -...|\n",
            "|                  11|         Harrison|  3151 W Harrison St|Chicago|   IL|60612|http://home.chica...|312-746-8386|312-746-4281|312-746-5151| 1155244.069| 1897148.755|41.87358229|-87.70548813|(41.8735822883, -...|\n",
            "|                  16|   Jefferson Park|5151 N Milwaukee Ave|Chicago|   IL|60630|http://home.chica...|312-742-4480|312-742-4421|312-742-4423| 1138480.758| 1933660.473|41.97409445|-87.76614884|(41.9740944511, -...|\n",
            "|        Headquarters|     Headquarters| 3510 S Michigan Ave|Chicago|   IL|60653|http://home.chica...|        null|        null|        null| 1177731.401| 1881697.404|41.83070169|-87.62339535|(41.8307016873, -...|\n",
            "|                  24|      Rogers Park|     6464 N Clark St|Chicago|   IL|60626|http://home.chica...|312-744-5907|312-744-6928|312-744-7603| 1164193.588| 1943199.401|41.99976348|-87.67132429|(41.9997634842, -...|\n",
            "|                   2|        Wentworth|5101 S Wentworth Ave|Chicago|   IL|60609|http://home.chica...|312-747-8366|312-747-5396|312-747-6656| 1175864.837| 1871153.753|41.80181109|-87.63056018|(41.8018110912, -...|\n",
            "|                   7|        Englewood|      1438 W 63rd St|Chicago|   IL|60636|http://home.chica...|312-747-8223|312-747-6558|312-747-6652| 1167659.235| 1863005.522|41.77963154|-87.66088702|(41.7796315359, -...|\n",
            "|                  25|    Grand Central|    5555 W Grand Ave|Chicago|   IL|60639|http://home.chica...|312-746-8605|312-746-4353|312-746-8383| 1138770.871| 1913442.439|41.91860889|-87.76557448|(41.9186088912, -...|\n",
            "|                  10|            Ogden|    3315 W Ogden Ave|Chicago|   IL|60623|http://home.chica...|312-747-7511|312-747-7429|312-747-7471| 1154500.753| 1890985.501|41.85668453|-87.70838196|(41.8566845327, -...|\n",
            "|                  15|           Austin|   5701 W Madison St|Chicago|   IL|60644|http://home.chica...|312-743-1440|312-743-1366|312-743-1485| 1138148.815| 1899399.078|41.88008346|-87.76819989|(41.8800834614, -...|\n",
            "|                   3|   Grand Crossing|7040 S Cottage Gr...|Chicago|   IL|60637|http://home.chica...|312-747-8201|312-747-5479|312-747-9168| 1182739.183| 1858317.732|41.76643089|-87.60574786|(41.7664308925, -...|\n",
            "|                  14|      Shakespeare|2150 N California...|Chicago|   IL|60647|http://home.chica...|312-744-8250|312-744-2422|312-744-8260| 1157304.426| 1914481.521|41.92110332|-87.69745182|(41.9211033246, -...|\n",
            "|                   8|     Chicago Lawn|      3420 W 63rd St|Chicago|   IL|60629|http://home.chica...|312-747-8730|312-747-8545|312-747-8116| 1154575.242| 1862672.049|41.77898719|-87.70886382|(41.778987189, -8...|\n",
            "|                   4|    South Chicago|     2255 E 103rd St|Chicago|   IL|60617|http://home.chica...|312-747-7581|312-747-5276|312-747-9169| 1193131.299| 1837090.265|41.70793329|-87.56834912|(41.7079332906, -...|\n",
            "|                  20|          Lincoln|  5400 N Lincoln Ave|Chicago|   IL|60625|http://home.chica...|312-742-8714|312-742-8803|312-742-8841| 1158399.146| 1935788.826|41.97954951|-87.69284451|(41.9795495131, -...|\n",
            "|                  18|       Near North|  1160 N Larrabee St|Chicago|   IL|60610|http://home.chica...|312-742-5870|312-742-5771|312-742-5773| 1172080.029| 1908086.527|41.90324165|-87.64335214|(41.9032416531, -...|\n",
            "|                  12|        Near West|1412 S Blue Islan...|   null| null| null|                null|        null|        null|        null|        null|        null|       null|        null|                null|\n",
            "|\",Chicago,IL,6060...| -87.6569725149)\"|                null|   null| null| null|                null|        null|        null|        null|        null|        null|       null|        null|                null|\n",
            "|                   9|          Deering|   3120 S Halsted St|Chicago|   IL|60608|http://home.chica...|312-747-8227|312-747-5329|312-747-9172|  1171440.24| 1884085.224|41.83739443|-87.64640771|(41.8373944311, -...|\n",
            "+--------------------+-----------------+--------------------+-------+-----+-----+--------------------+------------+------------+------------+------------+------------+-----------+------------+--------------------+\n",
            "only showing top 20 rows\n",
            "\n"
          ],
          "name": "stdout"
        },
        {
          "output_type": "execute_result",
          "data": {
            "text/plain": [
              "[('DISTRICT', 'string'),\n",
              " ('DISTRICT_NAME', 'string'),\n",
              " ('ADDRESS', 'string'),\n",
              " ('CITY', 'string'),\n",
              " ('STATE', 'string'),\n",
              " ('ZIP', 'string'),\n",
              " ('WEBSITE', 'string'),\n",
              " ('PHONE', 'string'),\n",
              " ('FAX', 'string'),\n",
              " ('TTY', 'string'),\n",
              " ('X COORDINATE', 'string'),\n",
              " ('Y COORDINATE', 'string'),\n",
              " ('LATITUDE', 'string'),\n",
              " ('LONGITUDE', 'string'),\n",
              " ('LOCATION', 'string')]"
            ]
          },
          "metadata": {
            "tags": []
          },
          "execution_count": 54
        }
      ]
    },
    {
      "cell_type": "markdown",
      "metadata": {
        "id": "g9kN6exTfIxT",
        "colab_type": "text"
      },
      "source": [
        "##The reported crimes dataset has only the district number. Add the district name by joining with the police station dataset"
      ]
    },
    {
      "cell_type": "code",
      "metadata": {
        "id": "xRbHDQvqfJrK",
        "colab_type": "code",
        "outputId": "c40ed9c4-6df2-4a7f-a35b-a65b5130c71d",
        "colab": {
          "base_uri": "https://localhost:8080/",
          "height": 479
        }
      },
      "source": [
        "from pyspark.sql.functions import lpad\n",
        "#Spark SQL\n",
        "ps.createOrReplaceTempView(\"police_station\")\n",
        "spark.sql(\"SELECT rc.*,ps.DISTRICT_NAME FROM reported_crimes rc LEFT OUTER JOIN police_station ps ON rc.district = LPAD(ps.district,3,0)\").show()\n"
      ],
      "execution_count": 0,
      "outputs": [
        {
          "output_type": "stream",
          "text": [
            "+-------+-----------+-------------------+--------------------+----+--------------------+--------------------+--------------------+------+--------+----+--------+----+--------------+-------+------------+------------+----+--------------------+------------+-------------+--------------------+--------------+\n",
            "|     ID|Case_Number|               Date|               Block|IUCR|        Primary_Type|         Description|Location_Description|Arrest|Domestic|Beat|District|Ward|Community_Area|FBICode|X_Coordinate|Y_Coordinate|Year|          Updated_On|    Latitude|    Longitude|            Location| DISTRICT_NAME|\n",
            "+-------+-----------+-------------------+--------------------+----+--------------------+--------------------+--------------------+------+--------+----+--------+----+--------------+-------+------------+------------+----+--------------------+------------+-------------+--------------------+--------------+\n",
            "|1730080|    G536683|2001-09-06 20:00:00|  093XX S CRANDON AV|0910| MOTOR VEHICLE THEFT|          AUTOMOBILE|              STREET|  true|   false|0413|     004|null|          null|     07|     1193108|     1843138|2001|08/17/2015 03:03:...|41.724529445|-87.568237637|(41.724529445, -8...| South Chicago|\n",
            "|1730081|    G534867|2001-09-06 20:12:38|    055XX S STATE ST|1710|OFFENSE INVOLVING...|ENDANGERING LIFE/...|            SIDEWALK| false|   false|0233|     002|null|          null|     26|     1177260|     1868230|2001|08/17/2015 03:03:...|41.793756617|-87.625531897|(41.793756617, -8...|     Wentworth|\n",
            "|1730082|    G536731|2001-09-02 23:30:00|       015XX E 72 PL|0910| MOTOR VEHICLE THEFT|          AUTOMOBILE|              STREET| false|   false|0324|     003|null|          null|     07|     1187677|     1857262|2001|08/17/2015 03:03:...|41.763417826|-87.587682714|(41.763417826, -8...|Grand Crossing|\n",
            "|1730084|    G532276|2001-09-05 17:15:00|   063XX S DREXEL AV|0820|               THEFT|      $500 AND UNDER|       PARK PROPERTY|  true|   false|0312|     003|null|          null|     06|     1183436|     1863397|2001|08/17/2015 03:03:...|41.780352676|-87.603035702|(41.780352676, -8...|Grand Crossing|\n",
            "|1730087|    G536760|2001-09-07 12:00:00|  005XX N HALSTED ST|0820|               THEFT|      $500 AND UNDER|              STREET| false|   false|1323|     012|null|          null|     06|     1170991|     1903929|2001|08/17/2015 03:03:...|41.891857114|-87.647474422|(41.891857114, -8...|     Near West|\n",
            "|1730088|    G536719|2001-09-07 10:00:00|008XX E MIDWAY PL...|0910| MOTOR VEHICLE THEFT|          AUTOMOBILE|              STREET| false|   false|2133|     002|null|          null|     07|     1182622|     1865900|2001|08/17/2015 03:03:...|41.787240066|-87.605942299|(41.787240066, -8...|     Wentworth|\n",
            "|1730089|    G535462|2001-09-07 04:10:00|  063XX S MINERVA AV|0460|             BATTERY|              SIMPLE|RESIDENCE PORCH/H...| false|    true|0314|     003|null|          null|    08B|     1185218|     1862870|2001|08/17/2015 03:03:...|41.778864827|-87.596519232|(41.778864827, -8...|Grand Crossing|\n",
            "|1730091|    G536745|2001-08-27 00:01:00|   017XX W ALBION AV|0920| MOTOR VEHICLE THEFT|     ATT: AUTOMOBILE|               OTHER| false|   false|2432|     024|null|          null|     07|     1163232|     1943839|2001|08/17/2015 03:03:...|42.001538906|-87.674843633|(42.001538906, -8...|   Rogers Park|\n",
            "|1730092|    G536772|2001-09-07 16:30:00|   082XX S MORGAN ST|4387|       OTHER OFFENSE|VIOLATE ORDER OF ...|           RESIDENCE| false|    true|0613|     006|null|          null|     26|     1171038|     1850252|2001|08/17/2015 03:03:...| 41.74456109|-87.648872089|(41.74456109, -87...|       Gresham|\n",
            "|1730094|    G536735|2001-09-07 14:24:00|  052XX N LINCOLN AV|0810|               THEFT|           OVER $500|              STREET| false|   false|2011|     020|null|          null|     06|     1158483|     1934791|2001|08/17/2015 03:03:...|41.976809711|-87.692563577|(41.976809711, -8...|       Lincoln|\n",
            "|1730097|    G536804|2001-09-07 07:00:00|       035XX W 26 ST|0820|               THEFT|      $500 AND UNDER|             CTA BUS| false|   false|1024|     010|null|          null|     06|     1153433|     1886545|2001|08/17/2015 03:03:...|41.844520531|-87.712419066|(41.844520531, -8...|         Ogden|\n",
            "|1730098|    G536797|2001-09-07 08:00:00|  031XX S KOSTNER AV|0820|               THEFT|      $500 AND UNDER|VEHICLE NON-COMME...| false|   false|1031|     010|null|          null|     06|     1147599|     1883464|2001|08/17/2015 03:03:...|  41.8361796|-87.733908042|(41.8361796, -87....|         Ogden|\n",
            "|1730099|    G536818|2001-09-07 08:00:00|    104XX S AVENUE L|1320|     CRIMINAL DAMAGE|          TO VEHICLE|              STREET| false|   false|0432|     004|null|          null|     14|     1201796|     1836388|2001|08/17/2015 03:03:...|41.705790611|-87.536643149|(41.705790611, -8...| South Chicago|\n",
            "|1730101|    G536824|2001-09-07 13:00:00|       008XX W 51 PL|1310|     CRIMINAL DAMAGE|         TO PROPERTY|           RESIDENCE| false|   false|0934|     009|null|          null|     14|     1171318|     1870652|2001|08/17/2015 03:03:...| 41.80053503|-87.647249836|(41.80053503, -87...|       Deering|\n",
            "|1730103|    G536801|2001-09-07 10:00:00|  014XX W ARDMORE AV|1310|     CRIMINAL DAMAGE|         TO PROPERTY|           RESIDENCE| false|   false|2013|     020|null|          null|     14|     1165729|     1938920|2001|08/17/2015 03:03:...|41.987987988|-87.665798627|(41.987987988, -8...|       Lincoln|\n",
            "|1730104|    G532885|2001-09-05 22:34:28|   057XX S WABASH AV|143A|   WEAPONS VIOLATION|UNLAWFUL POSS OF ...|            SIDEWALK|  true|   false|0233|     002|null|          null|     15|     1177657|     1866870|2001|08/17/2015 03:03:...|41.790015665|-87.624117276|(41.790015665, -8...|     Wentworth|\n",
            "|1730106|    G536755|2001-09-07 07:45:00|    049XX W ADAMS ST|2820|       OTHER OFFENSE|    TELEPHONE THREAT|           RESIDENCE| false|    true|1533|     015|null|          null|     26|     1143539|     1898838|2001|08/17/2015 03:03:...|41.878444691|-87.748421552|(41.878444691, -8...|        Austin|\n",
            "|1730108|    G536849|2001-09-06 18:00:00|  062XX S PAULINA ST|0610|            BURGLARY|      FORCIBLE ENTRY|    RESIDENCE-GARAGE| false|   false|0714|     007|null|          null|     05|     1166122|     1863199|2001|08/17/2015 03:03:...|41.780195312| -87.66651722|(41.780195312, -8...|     Englewood|\n",
            "|1730109|    G533074|2001-09-06 01:45:01|  044XX S FEDERAL ST|041A|             BATTERY| AGGRAVATED: HANDGUN|CHA PARKING LOT/G...| false|   false|0221|     002|null|          null|    04B|     1176393|     1875487|2001|08/17/2015 03:03:...|41.813690054|-87.628492882|(41.813690054, -8...|     Wentworth|\n",
            "|1730110|    G536832|2001-09-07 16:00:00|      040XX E 134 ST|2820|       OTHER OFFENSE|    TELEPHONE THREAT|           RESIDENCE| false|   false|0433|     004|null|          null|     26|     1204479|     1816701|2001|08/17/2015 03:03:...|41.651699175|-87.527492734|(41.651699175, -8...| South Chicago|\n",
            "+-------+-----------+-------------------+--------------------+----+--------------------+--------------------+--------------------+------+--------+----+--------+----+--------------+-------+------------+------------+----+--------------------+------------+-------------+--------------------+--------------+\n",
            "only showing top 20 rows\n",
            "\n"
          ],
          "name": "stdout"
        }
      ]
    },
    {
      "cell_type": "code",
      "metadata": {
        "id": "4eyIOLjAi39B",
        "colab_type": "code",
        "outputId": "1b7c7148-4ab2-4d93-e7f5-27e169e72191",
        "colab": {
          "base_uri": "https://localhost:8080/",
          "height": 479
        }
      },
      "source": [
        "#Dataframe API\n",
        "rc.cache()\n",
        "ps = ps.withColumn(\"format_district\",lpad(col(\"district\"),3,\"0\"))\n",
        "#ps.columns\n",
        "#rc.dtypes\n",
        "rc.join(ps,ps.format_district == rc.District,\"left_outer\").drop('ADDRESS',\n",
        " 'CITY',\n",
        " 'STATE',\n",
        " 'ZIP',\n",
        " 'WEBSITE',\n",
        " 'PHONE',\n",
        " 'FAX',\n",
        " 'TTY',\n",
        " 'X COORDINATE',\n",
        " 'Y COORDINATE',\n",
        " 'LATITUDE',\n",
        " 'LONGITUDE',\n",
        " 'LOCATION',\n",
        " 'format_district').show()\n"
      ],
      "execution_count": 0,
      "outputs": [
        {
          "output_type": "stream",
          "text": [
            "+-------+-----------+-------------------+--------------------+----+--------------------+--------------------+--------------------+------+--------+----+--------+----+--------------+-------+------------+------------+----+--------------------+--------+--------------+\n",
            "|     ID|Case_Number|               Date|               Block|IUCR|        Primary_Type|         Description|Location_Description|Arrest|Domestic|Beat|District|Ward|Community_Area|FBICode|X_Coordinate|Y_Coordinate|Year|          Updated_On|DISTRICT| DISTRICT_NAME|\n",
            "+-------+-----------+-------------------+--------------------+----+--------------------+--------------------+--------------------+------+--------+----+--------+----+--------------+-------+------------+------------+----+--------------------+--------+--------------+\n",
            "|1730080|    G536683|2001-09-06 20:00:00|  093XX S CRANDON AV|0910| MOTOR VEHICLE THEFT|          AUTOMOBILE|              STREET|  true|   false|0413|     004|null|          null|     07|     1193108|     1843138|2001|08/17/2015 03:03:...|       4| South Chicago|\n",
            "|1730081|    G534867|2001-09-06 20:12:38|    055XX S STATE ST|1710|OFFENSE INVOLVING...|ENDANGERING LIFE/...|            SIDEWALK| false|   false|0233|     002|null|          null|     26|     1177260|     1868230|2001|08/17/2015 03:03:...|       2|     Wentworth|\n",
            "|1730082|    G536731|2001-09-02 23:30:00|       015XX E 72 PL|0910| MOTOR VEHICLE THEFT|          AUTOMOBILE|              STREET| false|   false|0324|     003|null|          null|     07|     1187677|     1857262|2001|08/17/2015 03:03:...|       3|Grand Crossing|\n",
            "|1730084|    G532276|2001-09-05 17:15:00|   063XX S DREXEL AV|0820|               THEFT|      $500 AND UNDER|       PARK PROPERTY|  true|   false|0312|     003|null|          null|     06|     1183436|     1863397|2001|08/17/2015 03:03:...|       3|Grand Crossing|\n",
            "|1730087|    G536760|2001-09-07 12:00:00|  005XX N HALSTED ST|0820|               THEFT|      $500 AND UNDER|              STREET| false|   false|1323|     012|null|          null|     06|     1170991|     1903929|2001|08/17/2015 03:03:...|      12|     Near West|\n",
            "|1730088|    G536719|2001-09-07 10:00:00|008XX E MIDWAY PL...|0910| MOTOR VEHICLE THEFT|          AUTOMOBILE|              STREET| false|   false|2133|     002|null|          null|     07|     1182622|     1865900|2001|08/17/2015 03:03:...|       2|     Wentworth|\n",
            "|1730089|    G535462|2001-09-07 04:10:00|  063XX S MINERVA AV|0460|             BATTERY|              SIMPLE|RESIDENCE PORCH/H...| false|    true|0314|     003|null|          null|    08B|     1185218|     1862870|2001|08/17/2015 03:03:...|       3|Grand Crossing|\n",
            "|1730091|    G536745|2001-08-27 00:01:00|   017XX W ALBION AV|0920| MOTOR VEHICLE THEFT|     ATT: AUTOMOBILE|               OTHER| false|   false|2432|     024|null|          null|     07|     1163232|     1943839|2001|08/17/2015 03:03:...|      24|   Rogers Park|\n",
            "|1730092|    G536772|2001-09-07 16:30:00|   082XX S MORGAN ST|4387|       OTHER OFFENSE|VIOLATE ORDER OF ...|           RESIDENCE| false|    true|0613|     006|null|          null|     26|     1171038|     1850252|2001|08/17/2015 03:03:...|       6|       Gresham|\n",
            "|1730094|    G536735|2001-09-07 14:24:00|  052XX N LINCOLN AV|0810|               THEFT|           OVER $500|              STREET| false|   false|2011|     020|null|          null|     06|     1158483|     1934791|2001|08/17/2015 03:03:...|      20|       Lincoln|\n",
            "|1730097|    G536804|2001-09-07 07:00:00|       035XX W 26 ST|0820|               THEFT|      $500 AND UNDER|             CTA BUS| false|   false|1024|     010|null|          null|     06|     1153433|     1886545|2001|08/17/2015 03:03:...|      10|         Ogden|\n",
            "|1730098|    G536797|2001-09-07 08:00:00|  031XX S KOSTNER AV|0820|               THEFT|      $500 AND UNDER|VEHICLE NON-COMME...| false|   false|1031|     010|null|          null|     06|     1147599|     1883464|2001|08/17/2015 03:03:...|      10|         Ogden|\n",
            "|1730099|    G536818|2001-09-07 08:00:00|    104XX S AVENUE L|1320|     CRIMINAL DAMAGE|          TO VEHICLE|              STREET| false|   false|0432|     004|null|          null|     14|     1201796|     1836388|2001|08/17/2015 03:03:...|       4| South Chicago|\n",
            "|1730101|    G536824|2001-09-07 13:00:00|       008XX W 51 PL|1310|     CRIMINAL DAMAGE|         TO PROPERTY|           RESIDENCE| false|   false|0934|     009|null|          null|     14|     1171318|     1870652|2001|08/17/2015 03:03:...|       9|       Deering|\n",
            "|1730103|    G536801|2001-09-07 10:00:00|  014XX W ARDMORE AV|1310|     CRIMINAL DAMAGE|         TO PROPERTY|           RESIDENCE| false|   false|2013|     020|null|          null|     14|     1165729|     1938920|2001|08/17/2015 03:03:...|      20|       Lincoln|\n",
            "|1730104|    G532885|2001-09-05 22:34:28|   057XX S WABASH AV|143A|   WEAPONS VIOLATION|UNLAWFUL POSS OF ...|            SIDEWALK|  true|   false|0233|     002|null|          null|     15|     1177657|     1866870|2001|08/17/2015 03:03:...|       2|     Wentworth|\n",
            "|1730106|    G536755|2001-09-07 07:45:00|    049XX W ADAMS ST|2820|       OTHER OFFENSE|    TELEPHONE THREAT|           RESIDENCE| false|    true|1533|     015|null|          null|     26|     1143539|     1898838|2001|08/17/2015 03:03:...|      15|        Austin|\n",
            "|1730108|    G536849|2001-09-06 18:00:00|  062XX S PAULINA ST|0610|            BURGLARY|      FORCIBLE ENTRY|    RESIDENCE-GARAGE| false|   false|0714|     007|null|          null|     05|     1166122|     1863199|2001|08/17/2015 03:03:...|       7|     Englewood|\n",
            "|1730109|    G533074|2001-09-06 01:45:01|  044XX S FEDERAL ST|041A|             BATTERY| AGGRAVATED: HANDGUN|CHA PARKING LOT/G...| false|   false|0221|     002|null|          null|    04B|     1176393|     1875487|2001|08/17/2015 03:03:...|       2|     Wentworth|\n",
            "|1730110|    G536832|2001-09-07 16:00:00|      040XX E 134 ST|2820|       OTHER OFFENSE|    TELEPHONE THREAT|           RESIDENCE| false|   false|0433|     004|null|          null|     26|     1204479|     1816701|2001|08/17/2015 03:03:...|       4| South Chicago|\n",
            "+-------+-----------+-------------------+--------------------+----+--------------------+--------------------+--------------------+------+--------+----+--------+----+--------------+-------+------------+------------+----+--------------------+--------+--------------+\n",
            "only showing top 20 rows\n",
            "\n"
          ],
          "name": "stdout"
        }
      ]
    },
    {
      "cell_type": "markdown",
      "metadata": {
        "id": "VcYQEfLTrvcK",
        "colab_type": "text"
      },
      "source": [
        "##What is the most frequently reported non-criminal activity"
      ]
    },
    {
      "cell_type": "code",
      "metadata": {
        "id": "Ohl4OopNoaKY",
        "colab_type": "code",
        "outputId": "f13f8dc5-7770-409e-db26-ac22189757da",
        "colab": {
          "base_uri": "https://localhost:8080/",
          "height": 161
        }
      },
      "source": [
        "#Spark SQL\n",
        "spark.sql(\"SELECT count(1) num,description FROM reported_crimes WHERE primary_type LIKE 'NON-CRIMINAL%' GROUP BY description ORDER BY num DESC LIMIT 3\").show()"
      ],
      "execution_count": 0,
      "outputs": [
        {
          "output_type": "stream",
          "text": [
            "+---+--------------------+\n",
            "|num|         description|\n",
            "+---+--------------------+\n",
            "|107|       LOST PASSPORT|\n",
            "| 37|   FOID - REVOCATION|\n",
            "|  9|NOTIFICATION OF C...|\n",
            "+---+--------------------+\n",
            "\n"
          ],
          "name": "stdout"
        }
      ]
    },
    {
      "cell_type": "code",
      "metadata": {
        "id": "S_uYEVUGr-We",
        "colab_type": "code",
        "outputId": "a5a42d31-068c-497a-fa60-4782fd5508f6",
        "colab": {
          "base_uri": "https://localhost:8080/",
          "height": 233
        }
      },
      "source": [
        "#Dataframe API\n",
        "rc.cache()\n",
        "rc.select(col(\"primary_type\")).distinct().show(100,truncate=False)\n",
        "#rc.show()\n",
        "#rc.filter((col(\"primary_type\") == \"NON-CRIMINAL\")  | (col(\"primary_type\") == \"NON-CRIMINAL \")).show()\n",
        "rc.filter((col(\"primary_type\") == \"NON-CRIMINAL\")  | (col(\"primary_type\") == \"NON-CRIMINAL (SUBJECT SPECIFIED)\")).groupBy(col(\"Description\")).count().orderBy(\"count\",ascending=False).show()\n"
      ],
      "execution_count": 0,
      "outputs": [
        {
          "output_type": "stream",
          "text": [
            "+--------------------+-----+\n",
            "|         Description|count|\n",
            "+--------------------+-----+\n",
            "|       LOST PASSPORT|  107|\n",
            "|   FOID - REVOCATION|   37|\n",
            "|NOTIFICATION OF C...|    9|\n",
            "|NOTIFICATION OF S...|    8|\n",
            "|CONCEALED CARRY L...|    5|\n",
            "|      FOUND PASSPORT|    4|\n",
            "|GUN OFFENDER NOTI...|    3|\n",
            "+--------------------+-----+\n",
            "\n"
          ],
          "name": "stdout"
        }
      ]
    },
    {
      "cell_type": "markdown",
      "metadata": {
        "id": "Mv0inb_3rx74",
        "colab_type": "text"
      },
      "source": [
        "##Which day of the week has the most number of reported crime"
      ]
    },
    {
      "cell_type": "code",
      "metadata": {
        "id": "W1PHcuohr5dP",
        "colab_type": "code",
        "outputId": "b70c7f14-930e-48e2-b0bd-23ba3e5ccad2",
        "colab": {
          "base_uri": "https://localhost:8080/",
          "height": 287
        }
      },
      "source": [
        "#Spark SQL\n",
        "spark.sql(\"SELECT COUNT(1) num,SUBSTR(date,9,2) FROM reported_crimes GROUP BY SUBSTR(date,9,2) ORDER BY num DESC LIMIT 10\").show()"
      ],
      "execution_count": 0,
      "outputs": [
        {
          "output_type": "stream",
          "text": [
            "+------+-------------------------------------+\n",
            "|   num|substring(CAST(date AS STRING), 9, 2)|\n",
            "+------+-------------------------------------+\n",
            "|266599|                                   01|\n",
            "|229215|                                   15|\n",
            "|225363|                                   20|\n",
            "|223812|                                   10|\n",
            "|222567|                                   17|\n",
            "|222217|                                   14|\n",
            "|221511|                                   16|\n",
            "|221220|                                   12|\n",
            "|221044|                                   18|\n",
            "|220596|                                   09|\n",
            "+------+-------------------------------------+\n",
            "\n"
          ],
          "name": "stdout"
        }
      ]
    },
    {
      "cell_type": "code",
      "metadata": {
        "id": "vAx4FphDsAmZ",
        "colab_type": "code",
        "outputId": "c26f80ce-4132-43d9-df3f-24ac02bec9f9",
        "colab": {
          "base_uri": "https://localhost:8080/",
          "height": 917
        }
      },
      "source": [
        "#Dataframe API\n",
        "from pyspark.sql.functions import substring,dayofweek,date_format\n",
        "\n",
        "#dateofthemonth\n",
        "rc.groupBy(substring(col(\"Date\"),9,2).alias(\"Day\")).count().orderBy(\"count\",ascending=False).show()\n",
        "#dateoftheweek\n",
        "rc.groupBy(dayofweek(col(\"Date\"))).count().orderBy(\"count\",ascending=False).show()\n",
        "#dayoftheweek\n",
        "rc.groupBy(date_format(col(\"Date\"),\"E\")).count().orderBy(\"count\",ascending=False).show()\n"
      ],
      "execution_count": 0,
      "outputs": [
        {
          "output_type": "stream",
          "text": [
            "+---+------+\n",
            "|Day| count|\n",
            "+---+------+\n",
            "| 01|266599|\n",
            "| 15|229215|\n",
            "| 20|225363|\n",
            "| 10|223812|\n",
            "| 17|222567|\n",
            "| 14|222217|\n",
            "| 16|221511|\n",
            "| 12|221220|\n",
            "| 18|221044|\n",
            "| 09|220596|\n",
            "| 21|220433|\n",
            "| 05|220386|\n",
            "| 19|220289|\n",
            "| 06|220116|\n",
            "| 07|220078|\n",
            "| 08|220050|\n",
            "| 23|219668|\n",
            "| 11|219531|\n",
            "| 28|219481|\n",
            "| 13|219442|\n",
            "+---+------+\n",
            "only showing top 20 rows\n",
            "\n",
            "+---------------+-------+\n",
            "|dayofweek(Date)|  count|\n",
            "+---------------+-------+\n",
            "|              6|1016872|\n",
            "|              4| 973785|\n",
            "|              3| 967957|\n",
            "|              7| 965084|\n",
            "|              5| 964447|\n",
            "|              2| 952637|\n",
            "|              1| 911855|\n",
            "+---------------+-------+\n",
            "\n",
            "+--------------------+-------+\n",
            "|date_format(Date, E)|  count|\n",
            "+--------------------+-------+\n",
            "|                 Fri|1016872|\n",
            "|                 Wed| 973785|\n",
            "|                 Tue| 967957|\n",
            "|                 Sat| 965084|\n",
            "|                 Thu| 964447|\n",
            "|                 Mon| 952637|\n",
            "|                 Sun| 911855|\n",
            "+--------------------+-------+\n",
            "\n"
          ],
          "name": "stdout"
        }
      ]
    },
    {
      "cell_type": "markdown",
      "metadata": {
        "id": "rpFSjGRtsGEs",
        "colab_type": "text"
      },
      "source": [
        "## Define custom schema and datatypes when reading data from a CSV"
      ]
    },
    {
      "cell_type": "code",
      "metadata": {
        "id": "aV8sVEiIsIIa",
        "colab_type": "code",
        "outputId": "f950fe5a-07fc-4839-e34e-c7c2d313e375",
        "colab": {
          "base_uri": "https://localhost:8080/",
          "height": 935
        }
      },
      "source": [
        "from pyspark.sql.types import StructType,StructField,StringType,IntegerType,BooleanType,DoubleType\n",
        "rc.printSchema()\n",
        "custom_schema = StructType([StructField(\"ID\",IntegerType(),True),\\\n",
        "                            StructField(\"Case_num\",StringType(),True) \\\n",
        "                            ])\n",
        "print (custom_schema)\n",
        "ps_test = spark.read.csv(\"police-station.csv\",header=True,schema=custom_schema).show()"
      ],
      "execution_count": 0,
      "outputs": [
        {
          "output_type": "stream",
          "text": [
            "root\n",
            " |-- ID: string (nullable = true)\n",
            " |-- Case_Number: string (nullable = true)\n",
            " |-- Date: timestamp (nullable = true)\n",
            " |-- Block: string (nullable = true)\n",
            " |-- IUCR: string (nullable = true)\n",
            " |-- Primary_Type: string (nullable = true)\n",
            " |-- Description: string (nullable = true)\n",
            " |-- Location_Description: string (nullable = true)\n",
            " |-- Arrest: string (nullable = true)\n",
            " |-- Domestic: string (nullable = true)\n",
            " |-- Beat: string (nullable = true)\n",
            " |-- District: string (nullable = true)\n",
            " |-- Ward: string (nullable = true)\n",
            " |-- Community_Area: string (nullable = true)\n",
            " |-- FBICode: string (nullable = true)\n",
            " |-- X_Coordinate: string (nullable = true)\n",
            " |-- Y_Coordinate: string (nullable = true)\n",
            " |-- Year: string (nullable = true)\n",
            " |-- Updated_On: string (nullable = true)\n",
            " |-- Latitude: string (nullable = true)\n",
            " |-- Longitude: string (nullable = true)\n",
            " |-- Location: string (nullable = true)\n",
            "\n",
            "StructType(List(StructField(ID,IntegerType,true),StructField(Case_num,StringType,true)))\n",
            "+----+--------------+\n",
            "|  ID|      Case_num|\n",
            "+----+--------------+\n",
            "|   1|       Central|\n",
            "|   6|       Gresham|\n",
            "|  11|      Harrison|\n",
            "|  16|Jefferson Park|\n",
            "|null|          null|\n",
            "|  24|   Rogers Park|\n",
            "|   2|     Wentworth|\n",
            "|   7|     Englewood|\n",
            "|  25| Grand Central|\n",
            "|  10|         Ogden|\n",
            "|  15|        Austin|\n",
            "|   3|Grand Crossing|\n",
            "|  14|   Shakespeare|\n",
            "|   8|  Chicago Lawn|\n",
            "|   4| South Chicago|\n",
            "|  20|       Lincoln|\n",
            "|  18|    Near North|\n",
            "|  12|     Near West|\n",
            "|null|          null|\n",
            "|   9|       Deering|\n",
            "+----+--------------+\n",
            "only showing top 20 rows\n",
            "\n"
          ],
          "name": "stdout"
        }
      ]
    },
    {
      "cell_type": "markdown",
      "metadata": {
        "id": "eGzDFyZB2ObS",
        "colab_type": "text"
      },
      "source": [
        "##RDD - How many police stations are there?"
      ]
    },
    {
      "cell_type": "code",
      "metadata": {
        "id": "kfGFL1Wo2Psc",
        "colab_type": "code",
        "outputId": "bf08e177-5541-4b31-deea-ea2a925b8b79",
        "colab": {
          "base_uri": "https://localhost:8080/",
          "height": 91
        }
      },
      "source": [
        "# Initialize the RDD by copying the data from another Dataframe\n",
        "#ps_rdd = ps.rdd.map(lambda line : (line[0],line[1]))\n",
        "#ps_rdd1 = ps.rdd.map(lambda line : line)\n",
        "#ps_rdd.take(3)\n",
        "#ps_rdd1.take(3)\n",
        "\n",
        "#or\n",
        "#Initialize it from a file contents\n",
        "ps_rdd = sc.textFile(\"police-station.csv\")\n",
        "ps_rdd_header = ps_rdd.first()\n",
        "\n",
        "ps_rdd = ps_rdd.filter(lambda line:line != ps_rdd_header)\n",
        "ps_rdd.take(3)\n",
        "# type(ps_rdd)\n",
        "#ps_rdd.map(lambda line:line.split(\",\")).count()\n",
        "\n",
        "#ps_rdd_header\n",
        "#ps_rdd.top(5)"
      ],
      "execution_count": 0,
      "outputs": [
        {
          "output_type": "execute_result",
          "data": {
            "text/plain": [
              "['1,Central,1718 S State St,Chicago,IL,60616,http://home.chicagopolice.org/community/districts/1st-district-central/,312-745-4290,312-745-3694,312-745-3693,1176569.052,1891771.704,41.85837259,-87.62735617,\"(41.8583725929, -87.627356171)\"',\n",
              " '6,Gresham,7808 S Halsted St,Chicago,IL,60620,http://home.chicagopolice.org/community/districts/6th-district-gresham/,312-745-3617,312-745-3649,312-745-3639,1172283.013,1853022.646,41.75213684,-87.64422891,\"(41.7521368378, -87.6442289066)\"',\n",
              " '11,Harrison,3151 W Harrison St,Chicago,IL,60612,http://home.chicagopolice.org/community/districts/11th-district-harrison/,312-746-8386,312-746-4281,312-746-5151,1155244.069,1897148.755,41.87358229,-87.70548813,\"(41.8735822883, -87.705488126)\"']"
            ]
          },
          "metadata": {
            "tags": []
          },
          "execution_count": 178
        }
      ]
    },
    {
      "cell_type": "markdown",
      "metadata": {
        "id": "6fevwmFH2Syg",
        "colab_type": "text"
      },
      "source": [
        "## Display the District ID, District name, Address and Zip for the police station with District ID 7\n"
      ]
    },
    {
      "cell_type": "code",
      "metadata": {
        "id": "VsvgHSNo2Y6L",
        "colab_type": "code",
        "outputId": "efa91a3e-7aa7-42b9-90a4-aece7445c91e",
        "colab": {
          "base_uri": "https://localhost:8080/",
          "height": 91
        }
      },
      "source": [
        "# RDD\n",
        "ps_rdd.filter(lambda line : line.split(\",\")[0] == \"7\").map(lambda line : (line.split(\",\")[0],line.split(\",\")[1],line.split(\",\")[2],line.split(\",\")[5])).collect()\n",
        "\n",
        "\n",
        "# Dataframe API\n",
        "ps.filter(col(\"district\") == \"7\").select(col(\"district\"),col(\"district_name\"),col(\"address\"),col(\"zip\")).show()\n",
        "\n",
        "#Spark SQL\n",
        "spark.sql(\"SELECT district,district_name,address,zip FROM police_station WHERE district = 7\").show()"
      ],
      "execution_count": 0,
      "outputs": [
        {
          "output_type": "execute_result",
          "data": {
            "text/plain": [
              "['1,Central,1718 S State St,Chicago,IL,60616,http://home.chicagopolice.org/community/districts/1st-district-central/,312-745-4290,312-745-3694,312-745-3693,1176569.052,1891771.704,41.85837259,-87.62735617,\"(41.8583725929, -87.627356171)\"',\n",
              " '6,Gresham,7808 S Halsted St,Chicago,IL,60620,http://home.chicagopolice.org/community/districts/6th-district-gresham/,312-745-3617,312-745-3649,312-745-3639,1172283.013,1853022.646,41.75213684,-87.64422891,\"(41.7521368378, -87.6442289066)\"',\n",
              " '11,Harrison,3151 W Harrison St,Chicago,IL,60612,http://home.chicagopolice.org/community/districts/11th-district-harrison/,312-746-8386,312-746-4281,312-746-5151,1155244.069,1897148.755,41.87358229,-87.70548813,\"(41.8735822883, -87.705488126)\"']"
            ]
          },
          "metadata": {
            "tags": []
          },
          "execution_count": 173
        }
      ]
    },
    {
      "cell_type": "markdown",
      "metadata": {
        "id": "8VUd68v52Z3i",
        "colab_type": "text"
      },
      "source": [
        "##RDD - Police stations 10 and 11 are geographically close to each other. Display the District ID, District name, address and zip code"
      ]
    },
    {
      "cell_type": "code",
      "metadata": {
        "id": "Q9-UEDSh2ec6",
        "colab_type": "code",
        "outputId": "c6abf854-d702-4af7-a4d1-5bc4feb801f1",
        "colab": {
          "base_uri": "https://localhost:8080/",
          "height": 53
        }
      },
      "source": [
        "ps_rdd.filter(lambda line : line.split(\",\")[0] == \"10\" or line.split(\",\")[0] ==\"11\").map(lambda line : (line.split(\",\")[0],line.split(\",\")[1],line.split(\",\")[2],line.split(\",\")[5])).take(3)"
      ],
      "execution_count": 0,
      "outputs": [
        {
          "output_type": "execute_result",
          "data": {
            "text/plain": [
              "[('11', 'Harrison', '3151 W Harrison St', '60612'),\n",
              " ('10', 'Ogden', '3315 W Ogden Ave', '60623')]"
            ]
          },
          "metadata": {
            "tags": []
          },
          "execution_count": 153
        }
      ]
    },
    {
      "cell_type": "code",
      "metadata": {
        "id": "42uX3SaZsW4D",
        "colab_type": "code",
        "colab": {}
      },
      "source": [
        ""
      ],
      "execution_count": 0,
      "outputs": []
    }
  ]
}